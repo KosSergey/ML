{
 "cells": [
  {
   "cell_type": "raw",
   "id": "231da26f",
   "metadata": {},
   "source": [
    "Используя датасет предсказать заработную плату. Будем отталкиватся от значений меньше или равно 50 тыс. или больше 50 тыс."
   ]
  },
  {
   "cell_type": "raw",
   "id": "d539f803",
   "metadata": {},
   "source": [
    "Библиотеки\n",
    "Numpy - Одномерные и многомерные массивы (array) (матрицы, векторы)\n",
    "Pandas - таблицы и временные ряды (dataframe, series)\n",
    "Matplotlib.pyplot - научная графика\n",
    "Seaborn - больше красивой графики для визуализации данных\n",
    "\n",
    "Модули\n",
    "sklearn - библиотека для машинного обучения в Python. Она содержит готовые инструменты для работы с моделями, обработкой данных и анализом.\n"
   ]
  },
  {
   "cell_type": "code",
   "execution_count": 104,
   "id": "32b085eb",
   "metadata": {},
   "outputs": [],
   "source": [
    "import numpy as np             \n",
    "import pandas as pd         \n",
    "import matplotlib.pyplot as plt \n",
    "import seaborn as sns\n",
    "\n",
    "from sklearn.tree import DecisionTreeClassifier\n",
    "from sklearn.preprocessing import MinMaxScaler\n",
    "from sklearn.model_selection import train_test_split\n",
    "from sklearn.metrics import accuracy_score, ConfusionMatrixDisplay\n",
    "from sklearn.neighbors import KNeighborsClassifier\n",
    "\n",
    "from imblearn.over_sampling import SMOTE\n",
    "\n",
    "from IPython.display import Image\n",
    "\n"
   ]
  },
  {
   "cell_type": "raw",
   "id": "251bb2ae",
   "metadata": {},
   "source": [
    "data_row = pd.read_csv('salary.csv') - Считываем данные из файла \n",
    "data_row - смотрим первые 5 и последнии 5 строк в таблице"
   ]
  },
  {
   "cell_type": "code",
   "execution_count": 60,
   "id": "9d3c8e6f",
   "metadata": {},
   "outputs": [
    {
     "data": {
      "text/html": [
       "<div>\n",
       "<style scoped>\n",
       "    .dataframe tbody tr th:only-of-type {\n",
       "        vertical-align: middle;\n",
       "    }\n",
       "\n",
       "    .dataframe tbody tr th {\n",
       "        vertical-align: top;\n",
       "    }\n",
       "\n",
       "    .dataframe thead th {\n",
       "        text-align: right;\n",
       "    }\n",
       "</style>\n",
       "<table border=\"1\" class=\"dataframe\">\n",
       "  <thead>\n",
       "    <tr style=\"text-align: right;\">\n",
       "      <th></th>\n",
       "      <th>age</th>\n",
       "      <th>workclass</th>\n",
       "      <th>fnlwgt</th>\n",
       "      <th>education</th>\n",
       "      <th>education-num</th>\n",
       "      <th>marital-status</th>\n",
       "      <th>occupation</th>\n",
       "      <th>relationship</th>\n",
       "      <th>race</th>\n",
       "      <th>sex</th>\n",
       "      <th>capital-gain</th>\n",
       "      <th>capital-loss</th>\n",
       "      <th>hours-per-week</th>\n",
       "      <th>native-country</th>\n",
       "      <th>salary</th>\n",
       "    </tr>\n",
       "  </thead>\n",
       "  <tbody>\n",
       "    <tr>\n",
       "      <th>0</th>\n",
       "      <td>39</td>\n",
       "      <td>State-gov</td>\n",
       "      <td>77516</td>\n",
       "      <td>Bachelors</td>\n",
       "      <td>13</td>\n",
       "      <td>Never-married</td>\n",
       "      <td>Adm-clerical</td>\n",
       "      <td>Not-in-family</td>\n",
       "      <td>White</td>\n",
       "      <td>Male</td>\n",
       "      <td>2174</td>\n",
       "      <td>0</td>\n",
       "      <td>40</td>\n",
       "      <td>United-States</td>\n",
       "      <td>&lt;=50K</td>\n",
       "    </tr>\n",
       "    <tr>\n",
       "      <th>1</th>\n",
       "      <td>50</td>\n",
       "      <td>Self-emp-not-inc</td>\n",
       "      <td>83311</td>\n",
       "      <td>Bachelors</td>\n",
       "      <td>13</td>\n",
       "      <td>Married-civ-spouse</td>\n",
       "      <td>Exec-managerial</td>\n",
       "      <td>Husband</td>\n",
       "      <td>White</td>\n",
       "      <td>Male</td>\n",
       "      <td>0</td>\n",
       "      <td>0</td>\n",
       "      <td>13</td>\n",
       "      <td>United-States</td>\n",
       "      <td>&lt;=50K</td>\n",
       "    </tr>\n",
       "    <tr>\n",
       "      <th>2</th>\n",
       "      <td>38</td>\n",
       "      <td>Private</td>\n",
       "      <td>215646</td>\n",
       "      <td>HS-grad</td>\n",
       "      <td>9</td>\n",
       "      <td>Divorced</td>\n",
       "      <td>Handlers-cleaners</td>\n",
       "      <td>Not-in-family</td>\n",
       "      <td>White</td>\n",
       "      <td>Male</td>\n",
       "      <td>0</td>\n",
       "      <td>0</td>\n",
       "      <td>40</td>\n",
       "      <td>United-States</td>\n",
       "      <td>&lt;=50K</td>\n",
       "    </tr>\n",
       "    <tr>\n",
       "      <th>3</th>\n",
       "      <td>53</td>\n",
       "      <td>Private</td>\n",
       "      <td>234721</td>\n",
       "      <td>11th</td>\n",
       "      <td>7</td>\n",
       "      <td>Married-civ-spouse</td>\n",
       "      <td>Handlers-cleaners</td>\n",
       "      <td>Husband</td>\n",
       "      <td>Black</td>\n",
       "      <td>Male</td>\n",
       "      <td>0</td>\n",
       "      <td>0</td>\n",
       "      <td>40</td>\n",
       "      <td>United-States</td>\n",
       "      <td>&lt;=50K</td>\n",
       "    </tr>\n",
       "    <tr>\n",
       "      <th>4</th>\n",
       "      <td>28</td>\n",
       "      <td>Private</td>\n",
       "      <td>338409</td>\n",
       "      <td>Bachelors</td>\n",
       "      <td>13</td>\n",
       "      <td>Married-civ-spouse</td>\n",
       "      <td>Prof-specialty</td>\n",
       "      <td>Wife</td>\n",
       "      <td>Black</td>\n",
       "      <td>Female</td>\n",
       "      <td>0</td>\n",
       "      <td>0</td>\n",
       "      <td>40</td>\n",
       "      <td>Cuba</td>\n",
       "      <td>&lt;=50K</td>\n",
       "    </tr>\n",
       "    <tr>\n",
       "      <th>...</th>\n",
       "      <td>...</td>\n",
       "      <td>...</td>\n",
       "      <td>...</td>\n",
       "      <td>...</td>\n",
       "      <td>...</td>\n",
       "      <td>...</td>\n",
       "      <td>...</td>\n",
       "      <td>...</td>\n",
       "      <td>...</td>\n",
       "      <td>...</td>\n",
       "      <td>...</td>\n",
       "      <td>...</td>\n",
       "      <td>...</td>\n",
       "      <td>...</td>\n",
       "      <td>...</td>\n",
       "    </tr>\n",
       "    <tr>\n",
       "      <th>32556</th>\n",
       "      <td>27</td>\n",
       "      <td>Private</td>\n",
       "      <td>257302</td>\n",
       "      <td>Assoc-acdm</td>\n",
       "      <td>12</td>\n",
       "      <td>Married-civ-spouse</td>\n",
       "      <td>Tech-support</td>\n",
       "      <td>Wife</td>\n",
       "      <td>White</td>\n",
       "      <td>Female</td>\n",
       "      <td>0</td>\n",
       "      <td>0</td>\n",
       "      <td>38</td>\n",
       "      <td>United-States</td>\n",
       "      <td>&lt;=50K</td>\n",
       "    </tr>\n",
       "    <tr>\n",
       "      <th>32557</th>\n",
       "      <td>40</td>\n",
       "      <td>Private</td>\n",
       "      <td>154374</td>\n",
       "      <td>HS-grad</td>\n",
       "      <td>9</td>\n",
       "      <td>Married-civ-spouse</td>\n",
       "      <td>Machine-op-inspct</td>\n",
       "      <td>Husband</td>\n",
       "      <td>White</td>\n",
       "      <td>Male</td>\n",
       "      <td>0</td>\n",
       "      <td>0</td>\n",
       "      <td>40</td>\n",
       "      <td>United-States</td>\n",
       "      <td>&gt;50K</td>\n",
       "    </tr>\n",
       "    <tr>\n",
       "      <th>32558</th>\n",
       "      <td>58</td>\n",
       "      <td>Private</td>\n",
       "      <td>151910</td>\n",
       "      <td>HS-grad</td>\n",
       "      <td>9</td>\n",
       "      <td>Widowed</td>\n",
       "      <td>Adm-clerical</td>\n",
       "      <td>Unmarried</td>\n",
       "      <td>White</td>\n",
       "      <td>Female</td>\n",
       "      <td>0</td>\n",
       "      <td>0</td>\n",
       "      <td>40</td>\n",
       "      <td>United-States</td>\n",
       "      <td>&lt;=50K</td>\n",
       "    </tr>\n",
       "    <tr>\n",
       "      <th>32559</th>\n",
       "      <td>22</td>\n",
       "      <td>Private</td>\n",
       "      <td>201490</td>\n",
       "      <td>HS-grad</td>\n",
       "      <td>9</td>\n",
       "      <td>Never-married</td>\n",
       "      <td>Adm-clerical</td>\n",
       "      <td>Own-child</td>\n",
       "      <td>White</td>\n",
       "      <td>Male</td>\n",
       "      <td>0</td>\n",
       "      <td>0</td>\n",
       "      <td>20</td>\n",
       "      <td>United-States</td>\n",
       "      <td>&lt;=50K</td>\n",
       "    </tr>\n",
       "    <tr>\n",
       "      <th>32560</th>\n",
       "      <td>52</td>\n",
       "      <td>Self-emp-inc</td>\n",
       "      <td>287927</td>\n",
       "      <td>HS-grad</td>\n",
       "      <td>9</td>\n",
       "      <td>Married-civ-spouse</td>\n",
       "      <td>Exec-managerial</td>\n",
       "      <td>Wife</td>\n",
       "      <td>White</td>\n",
       "      <td>Female</td>\n",
       "      <td>15024</td>\n",
       "      <td>0</td>\n",
       "      <td>40</td>\n",
       "      <td>United-States</td>\n",
       "      <td>&gt;50K</td>\n",
       "    </tr>\n",
       "  </tbody>\n",
       "</table>\n",
       "<p>32561 rows × 15 columns</p>\n",
       "</div>"
      ],
      "text/plain": [
       "       age          workclass  fnlwgt    education  education-num  \\\n",
       "0       39          State-gov   77516    Bachelors             13   \n",
       "1       50   Self-emp-not-inc   83311    Bachelors             13   \n",
       "2       38            Private  215646      HS-grad              9   \n",
       "3       53            Private  234721         11th              7   \n",
       "4       28            Private  338409    Bachelors             13   \n",
       "...    ...                ...     ...          ...            ...   \n",
       "32556   27            Private  257302   Assoc-acdm             12   \n",
       "32557   40            Private  154374      HS-grad              9   \n",
       "32558   58            Private  151910      HS-grad              9   \n",
       "32559   22            Private  201490      HS-grad              9   \n",
       "32560   52       Self-emp-inc  287927      HS-grad              9   \n",
       "\n",
       "            marital-status          occupation    relationship    race  \\\n",
       "0            Never-married        Adm-clerical   Not-in-family   White   \n",
       "1       Married-civ-spouse     Exec-managerial         Husband   White   \n",
       "2                 Divorced   Handlers-cleaners   Not-in-family   White   \n",
       "3       Married-civ-spouse   Handlers-cleaners         Husband   Black   \n",
       "4       Married-civ-spouse      Prof-specialty            Wife   Black   \n",
       "...                    ...                 ...             ...     ...   \n",
       "32556   Married-civ-spouse        Tech-support            Wife   White   \n",
       "32557   Married-civ-spouse   Machine-op-inspct         Husband   White   \n",
       "32558              Widowed        Adm-clerical       Unmarried   White   \n",
       "32559        Never-married        Adm-clerical       Own-child   White   \n",
       "32560   Married-civ-spouse     Exec-managerial            Wife   White   \n",
       "\n",
       "           sex  capital-gain  capital-loss  hours-per-week  native-country  \\\n",
       "0         Male          2174             0              40   United-States   \n",
       "1         Male             0             0              13   United-States   \n",
       "2         Male             0             0              40   United-States   \n",
       "3         Male             0             0              40   United-States   \n",
       "4       Female             0             0              40            Cuba   \n",
       "...        ...           ...           ...             ...             ...   \n",
       "32556   Female             0             0              38   United-States   \n",
       "32557     Male             0             0              40   United-States   \n",
       "32558   Female             0             0              40   United-States   \n",
       "32559     Male             0             0              20   United-States   \n",
       "32560   Female         15024             0              40   United-States   \n",
       "\n",
       "       salary  \n",
       "0       <=50K  \n",
       "1       <=50K  \n",
       "2       <=50K  \n",
       "3       <=50K  \n",
       "4       <=50K  \n",
       "...       ...  \n",
       "32556   <=50K  \n",
       "32557    >50K  \n",
       "32558   <=50K  \n",
       "32559   <=50K  \n",
       "32560    >50K  \n",
       "\n",
       "[32561 rows x 15 columns]"
      ]
     },
     "execution_count": 60,
     "metadata": {},
     "output_type": "execute_result"
    }
   ],
   "source": [
    "data_row = pd.read_csv('salary.csv') \n",
    "data_row "
   ]
  },
  {
   "cell_type": "markdown",
   "id": "e0fdb381",
   "metadata": {},
   "source": [
    "# Визуализация данных, вычисление основных характеристик"
   ]
  },
  {
   "cell_type": "raw",
   "id": "c2523cbf",
   "metadata": {},
   "source": [
    "Далее покажем типы данных всех столбцов\n",
    "Всего у нас 6 числовых и 9 категориальных признаков"
   ]
  },
  {
   "cell_type": "code",
   "execution_count": 61,
   "id": "845a75e0",
   "metadata": {},
   "outputs": [
    {
     "data": {
      "text/plain": [
       "age                int64\n",
       "workclass         object\n",
       "fnlwgt             int64\n",
       "education         object\n",
       "education-num      int64\n",
       "marital-status    object\n",
       "occupation        object\n",
       "relationship      object\n",
       "race              object\n",
       "sex               object\n",
       "capital-gain       int64\n",
       "capital-loss       int64\n",
       "hours-per-week     int64\n",
       "native-country    object\n",
       "salary            object\n",
       "dtype: object"
      ]
     },
     "execution_count": 61,
     "metadata": {},
     "output_type": "execute_result"
    }
   ],
   "source": [
    "data_row.dtypes"
   ]
  },
  {
   "cell_type": "raw",
   "id": "9cc1c002",
   "metadata": {},
   "source": [
    "Выведим числовые признаки\n",
    "age — возраст\n",
    "fnlwgt — финальный вес (final weight, статистический коэффициент выборки)\n",
    "education-num — количество лет обучения\n",
    "capital-gain — прирост капитала (доход от инвестиций)\n",
    "capital-loss — убыток капитала (потери от инвестиций)\n",
    "hours-per-week — количество часов работы в неделю"
   ]
  },
  {
   "cell_type": "code",
   "execution_count": 62,
   "id": "ae47b04d",
   "metadata": {},
   "outputs": [
    {
     "data": {
      "text/plain": [
       "['age',\n",
       " 'fnlwgt',\n",
       " 'education-num',\n",
       " 'capital-gain',\n",
       " 'capital-loss',\n",
       " 'hours-per-week']"
      ]
     },
     "execution_count": 62,
     "metadata": {},
     "output_type": "execute_result"
    }
   ],
   "source": [
    "numeric_parameters = [column for column in data_row.columns if data_row[column].dtype.name != 'object']\n",
    "numeric_parameters"
   ]
  },
  {
   "cell_type": "raw",
   "id": "02baccf8",
   "metadata": {},
   "source": [
    "Вычислим основные статистические характеристики наших признаков\n",
    "count — количество значений.\n",
    "mean — среднее значение.\n",
    "std — стандартное отклонение (разброс данных).\n",
    "min — минимальное значение.\n",
    "25% — первый квартиль (нижние 25% данных).\n",
    "50% (median) — медиана (середина выборки).\n",
    "75% — третий квартиль (верхние 25% данных).\n",
    "max — максимальное значение."
   ]
  },
  {
   "cell_type": "code",
   "execution_count": 63,
   "id": "0a5c4290",
   "metadata": {},
   "outputs": [
    {
     "data": {
      "text/html": [
       "<div>\n",
       "<style scoped>\n",
       "    .dataframe tbody tr th:only-of-type {\n",
       "        vertical-align: middle;\n",
       "    }\n",
       "\n",
       "    .dataframe tbody tr th {\n",
       "        vertical-align: top;\n",
       "    }\n",
       "\n",
       "    .dataframe thead th {\n",
       "        text-align: right;\n",
       "    }\n",
       "</style>\n",
       "<table border=\"1\" class=\"dataframe\">\n",
       "  <thead>\n",
       "    <tr style=\"text-align: right;\">\n",
       "      <th></th>\n",
       "      <th>age</th>\n",
       "      <th>fnlwgt</th>\n",
       "      <th>education-num</th>\n",
       "      <th>capital-gain</th>\n",
       "      <th>capital-loss</th>\n",
       "      <th>hours-per-week</th>\n",
       "    </tr>\n",
       "  </thead>\n",
       "  <tbody>\n",
       "    <tr>\n",
       "      <th>count</th>\n",
       "      <td>32561.000000</td>\n",
       "      <td>3.256100e+04</td>\n",
       "      <td>32561.000000</td>\n",
       "      <td>32561.000000</td>\n",
       "      <td>32561.000000</td>\n",
       "      <td>32561.000000</td>\n",
       "    </tr>\n",
       "    <tr>\n",
       "      <th>mean</th>\n",
       "      <td>38.581647</td>\n",
       "      <td>1.897784e+05</td>\n",
       "      <td>10.080679</td>\n",
       "      <td>1077.648844</td>\n",
       "      <td>87.303830</td>\n",
       "      <td>40.437456</td>\n",
       "    </tr>\n",
       "    <tr>\n",
       "      <th>std</th>\n",
       "      <td>13.640433</td>\n",
       "      <td>1.055500e+05</td>\n",
       "      <td>2.572720</td>\n",
       "      <td>7385.292085</td>\n",
       "      <td>402.960219</td>\n",
       "      <td>12.347429</td>\n",
       "    </tr>\n",
       "    <tr>\n",
       "      <th>min</th>\n",
       "      <td>17.000000</td>\n",
       "      <td>1.228500e+04</td>\n",
       "      <td>1.000000</td>\n",
       "      <td>0.000000</td>\n",
       "      <td>0.000000</td>\n",
       "      <td>1.000000</td>\n",
       "    </tr>\n",
       "    <tr>\n",
       "      <th>25%</th>\n",
       "      <td>28.000000</td>\n",
       "      <td>1.178270e+05</td>\n",
       "      <td>9.000000</td>\n",
       "      <td>0.000000</td>\n",
       "      <td>0.000000</td>\n",
       "      <td>40.000000</td>\n",
       "    </tr>\n",
       "    <tr>\n",
       "      <th>50%</th>\n",
       "      <td>37.000000</td>\n",
       "      <td>1.783560e+05</td>\n",
       "      <td>10.000000</td>\n",
       "      <td>0.000000</td>\n",
       "      <td>0.000000</td>\n",
       "      <td>40.000000</td>\n",
       "    </tr>\n",
       "    <tr>\n",
       "      <th>75%</th>\n",
       "      <td>48.000000</td>\n",
       "      <td>2.370510e+05</td>\n",
       "      <td>12.000000</td>\n",
       "      <td>0.000000</td>\n",
       "      <td>0.000000</td>\n",
       "      <td>45.000000</td>\n",
       "    </tr>\n",
       "    <tr>\n",
       "      <th>max</th>\n",
       "      <td>90.000000</td>\n",
       "      <td>1.484705e+06</td>\n",
       "      <td>16.000000</td>\n",
       "      <td>99999.000000</td>\n",
       "      <td>4356.000000</td>\n",
       "      <td>99.000000</td>\n",
       "    </tr>\n",
       "  </tbody>\n",
       "</table>\n",
       "</div>"
      ],
      "text/plain": [
       "                age        fnlwgt  education-num  capital-gain  capital-loss  \\\n",
       "count  32561.000000  3.256100e+04   32561.000000  32561.000000  32561.000000   \n",
       "mean      38.581647  1.897784e+05      10.080679   1077.648844     87.303830   \n",
       "std       13.640433  1.055500e+05       2.572720   7385.292085    402.960219   \n",
       "min       17.000000  1.228500e+04       1.000000      0.000000      0.000000   \n",
       "25%       28.000000  1.178270e+05       9.000000      0.000000      0.000000   \n",
       "50%       37.000000  1.783560e+05      10.000000      0.000000      0.000000   \n",
       "75%       48.000000  2.370510e+05      12.000000      0.000000      0.000000   \n",
       "max       90.000000  1.484705e+06      16.000000  99999.000000   4356.000000   \n",
       "\n",
       "       hours-per-week  \n",
       "count    32561.000000  \n",
       "mean        40.437456  \n",
       "std         12.347429  \n",
       "min          1.000000  \n",
       "25%         40.000000  \n",
       "50%         40.000000  \n",
       "75%         45.000000  \n",
       "max         99.000000  "
      ]
     },
     "execution_count": 63,
     "metadata": {},
     "output_type": "execute_result"
    }
   ],
   "source": [
    "data_row.describe()"
   ]
  },
  {
   "cell_type": "raw",
   "id": "d639935b",
   "metadata": {},
   "source": [
    "Выведим категориальные признаки\n",
    "workclass - Рабочий класс \n",
    "education - Образование \n",
    "marital status - Семейное положение \n",
    "occupation - Сфера занятости \n",
    "relationship - Отношения \n",
    "race - Раса \n",
    "sex - Пол \n",
    "native country - Страна рождения \n",
    "salary - Зарпалата "
   ]
  },
  {
   "cell_type": "code",
   "execution_count": 64,
   "id": "aaffc873",
   "metadata": {},
   "outputs": [
    {
     "data": {
      "text/plain": [
       "['workclass',\n",
       " 'education',\n",
       " 'marital-status',\n",
       " 'occupation',\n",
       " 'relationship',\n",
       " 'race',\n",
       " 'sex',\n",
       " 'native-country',\n",
       " 'salary']"
      ]
     },
     "execution_count": 64,
     "metadata": {},
     "output_type": "execute_result"
    }
   ],
   "source": [
    "category_parameters = [column for column in data_row.columns if data_row[column].dtype.name == 'object']\n",
    "category_parameters"
   ]
  },
  {
   "cell_type": "raw",
   "id": "3a88b158",
   "metadata": {},
   "source": [
    "Рассмотрим распределения\n",
    "Пропущенные значения показаны в \"?\""
   ]
  },
  {
   "cell_type": "raw",
   "id": "25c7b689",
   "metadata": {},
   "source": [
    "Пропущенные значения workclass = 1836"
   ]
  },
  {
   "cell_type": "code",
   "execution_count": 65,
   "id": "a837df1d",
   "metadata": {},
   "outputs": [
    {
     "data": {
      "text/plain": [
       " Private             22696\n",
       " Self-emp-not-inc     2541\n",
       " Local-gov            2093\n",
       " ?                    1836\n",
       " State-gov            1298\n",
       " Self-emp-inc         1116\n",
       " Federal-gov           960\n",
       " Without-pay            14\n",
       " Never-worked            7\n",
       "Name: workclass, dtype: int64"
      ]
     },
     "execution_count": 65,
     "metadata": {},
     "output_type": "execute_result"
    }
   ],
   "source": [
    "data_row['workclass'].value_counts()"
   ]
  },
  {
   "cell_type": "raw",
   "id": "48b7b54e",
   "metadata": {},
   "source": [
    "Пропущенные значения education = 0"
   ]
  },
  {
   "cell_type": "code",
   "execution_count": 66,
   "id": "a3e7c93b",
   "metadata": {},
   "outputs": [
    {
     "data": {
      "text/plain": [
       " HS-grad         10501\n",
       " Some-college     7291\n",
       " Bachelors        5355\n",
       " Masters          1723\n",
       " Assoc-voc        1382\n",
       " 11th             1175\n",
       " Assoc-acdm       1067\n",
       " 10th              933\n",
       " 7th-8th           646\n",
       " Prof-school       576\n",
       " 9th               514\n",
       " 12th              433\n",
       " Doctorate         413\n",
       " 5th-6th           333\n",
       " 1st-4th           168\n",
       " Preschool          51\n",
       "Name: education, dtype: int64"
      ]
     },
     "execution_count": 66,
     "metadata": {},
     "output_type": "execute_result"
    }
   ],
   "source": [
    "data_row['education'].value_counts()"
   ]
  },
  {
   "cell_type": "raw",
   "id": "a228aa0d",
   "metadata": {},
   "source": [
    "Пропущенные значения marital-status = 0"
   ]
  },
  {
   "cell_type": "code",
   "execution_count": 67,
   "id": "607816ac",
   "metadata": {},
   "outputs": [
    {
     "data": {
      "text/plain": [
       " Married-civ-spouse       14976\n",
       " Never-married            10683\n",
       " Divorced                  4443\n",
       " Separated                 1025\n",
       " Widowed                    993\n",
       " Married-spouse-absent      418\n",
       " Married-AF-spouse           23\n",
       "Name: marital-status, dtype: int64"
      ]
     },
     "execution_count": 67,
     "metadata": {},
     "output_type": "execute_result"
    }
   ],
   "source": [
    "data_row['marital-status'].value_counts()"
   ]
  },
  {
   "cell_type": "raw",
   "id": "2421bfb6",
   "metadata": {},
   "source": [
    "Пропущенные значения occupation = 1843"
   ]
  },
  {
   "cell_type": "code",
   "execution_count": 68,
   "id": "870d9fb3",
   "metadata": {},
   "outputs": [
    {
     "data": {
      "text/plain": [
       " Prof-specialty       4140\n",
       " Craft-repair         4099\n",
       " Exec-managerial      4066\n",
       " Adm-clerical         3770\n",
       " Sales                3650\n",
       " Other-service        3295\n",
       " Machine-op-inspct    2002\n",
       " ?                    1843\n",
       " Transport-moving     1597\n",
       " Handlers-cleaners    1370\n",
       " Farming-fishing       994\n",
       " Tech-support          928\n",
       " Protective-serv       649\n",
       " Priv-house-serv       149\n",
       " Armed-Forces            9\n",
       "Name: occupation, dtype: int64"
      ]
     },
     "execution_count": 68,
     "metadata": {},
     "output_type": "execute_result"
    }
   ],
   "source": [
    "data_row['occupation'].value_counts()"
   ]
  },
  {
   "cell_type": "raw",
   "id": "767cd81a",
   "metadata": {},
   "source": [
    "Пропущенные значения education = 0"
   ]
  },
  {
   "cell_type": "code",
   "execution_count": 69,
   "id": "ed6624d2",
   "metadata": {},
   "outputs": [
    {
     "data": {
      "text/plain": [
       " HS-grad         10501\n",
       " Some-college     7291\n",
       " Bachelors        5355\n",
       " Masters          1723\n",
       " Assoc-voc        1382\n",
       " 11th             1175\n",
       " Assoc-acdm       1067\n",
       " 10th              933\n",
       " 7th-8th           646\n",
       " Prof-school       576\n",
       " 9th               514\n",
       " 12th              433\n",
       " Doctorate         413\n",
       " 5th-6th           333\n",
       " 1st-4th           168\n",
       " Preschool          51\n",
       "Name: education, dtype: int64"
      ]
     },
     "execution_count": 69,
     "metadata": {},
     "output_type": "execute_result"
    }
   ],
   "source": [
    "data_row['education'].value_counts()"
   ]
  },
  {
   "cell_type": "raw",
   "id": "e779690e",
   "metadata": {},
   "source": [
    "Пропущенные значения relationship = 0"
   ]
  },
  {
   "cell_type": "code",
   "execution_count": 70,
   "id": "2c11b377",
   "metadata": {},
   "outputs": [
    {
     "data": {
      "text/plain": [
       " Husband           13193\n",
       " Not-in-family      8305\n",
       " Own-child          5068\n",
       " Unmarried          3446\n",
       " Wife               1568\n",
       " Other-relative      981\n",
       "Name: relationship, dtype: int64"
      ]
     },
     "execution_count": 70,
     "metadata": {},
     "output_type": "execute_result"
    }
   ],
   "source": [
    "data_row['relationship'].value_counts()"
   ]
  },
  {
   "cell_type": "raw",
   "id": "ade57afb",
   "metadata": {},
   "source": [
    "Пропущенные значения race = 0"
   ]
  },
  {
   "cell_type": "code",
   "execution_count": 71,
   "id": "5bfd95a2",
   "metadata": {},
   "outputs": [
    {
     "data": {
      "text/plain": [
       " White                 27816\n",
       " Black                  3124\n",
       " Asian-Pac-Islander     1039\n",
       " Amer-Indian-Eskimo      311\n",
       " Other                   271\n",
       "Name: race, dtype: int64"
      ]
     },
     "execution_count": 71,
     "metadata": {},
     "output_type": "execute_result"
    }
   ],
   "source": [
    "data_row['race'].value_counts()"
   ]
  },
  {
   "cell_type": "raw",
   "id": "6710f79b",
   "metadata": {},
   "source": [
    "Пропущенные значения sex = 0"
   ]
  },
  {
   "cell_type": "code",
   "execution_count": 72,
   "id": "aa1116fb",
   "metadata": {},
   "outputs": [
    {
     "data": {
      "text/plain": [
       " Male      21790\n",
       " Female    10771\n",
       "Name: sex, dtype: int64"
      ]
     },
     "execution_count": 72,
     "metadata": {},
     "output_type": "execute_result"
    }
   ],
   "source": [
    "data_row['sex'].value_counts()"
   ]
  },
  {
   "cell_type": "markdown",
   "id": "e803100e",
   "metadata": {},
   "source": [
    "Пропущенные значения sex = 583"
   ]
  },
  {
   "cell_type": "code",
   "execution_count": 74,
   "id": "c20168b8",
   "metadata": {},
   "outputs": [
    {
     "data": {
      "text/plain": [
       " United-States                 29170\n",
       " Mexico                          643\n",
       " ?                               583\n",
       " Philippines                     198\n",
       " Germany                         137\n",
       " Canada                          121\n",
       " Puerto-Rico                     114\n",
       " El-Salvador                     106\n",
       " India                           100\n",
       " Cuba                             95\n",
       " England                          90\n",
       " Jamaica                          81\n",
       " South                            80\n",
       " China                            75\n",
       " Italy                            73\n",
       " Dominican-Republic               70\n",
       " Vietnam                          67\n",
       " Guatemala                        64\n",
       " Japan                            62\n",
       " Poland                           60\n",
       " Columbia                         59\n",
       " Taiwan                           51\n",
       " Haiti                            44\n",
       " Iran                             43\n",
       " Portugal                         37\n",
       " Nicaragua                        34\n",
       " Peru                             31\n",
       " France                           29\n",
       " Greece                           29\n",
       " Ecuador                          28\n",
       " Ireland                          24\n",
       " Hong                             20\n",
       " Cambodia                         19\n",
       " Trinadad&Tobago                  19\n",
       " Laos                             18\n",
       " Thailand                         18\n",
       " Yugoslavia                       16\n",
       " Outlying-US(Guam-USVI-etc)       14\n",
       " Honduras                         13\n",
       " Hungary                          13\n",
       " Scotland                         12\n",
       " Holand-Netherlands                1\n",
       "Name: native-country, dtype: int64"
      ]
     },
     "execution_count": 74,
     "metadata": {},
     "output_type": "execute_result"
    }
   ],
   "source": [
    "data_row['native-country'].value_counts()"
   ]
  },
  {
   "cell_type": "raw",
   "id": "1b31d8db",
   "metadata": {},
   "source": [
    "Пропущенные значения sex = 0"
   ]
  },
  {
   "cell_type": "code",
   "execution_count": 75,
   "id": "f7e311c2",
   "metadata": {},
   "outputs": [
    {
     "data": {
      "text/plain": [
       " <=50K    24720\n",
       " >50K      7841\n",
       "Name: salary, dtype: int64"
      ]
     },
     "execution_count": 75,
     "metadata": {},
     "output_type": "execute_result"
    }
   ],
   "source": [
    "data_row['salary'].value_counts()"
   ]
  },
  {
   "cell_type": "markdown",
   "id": "c594e518",
   "metadata": {},
   "source": [
    "# Обработка пропущенных значений"
   ]
  },
  {
   "cell_type": "raw",
   "id": "d20f0bc7",
   "metadata": {},
   "source": [
    "Избавимся от пропущенных значений, заменим их на NaN"
   ]
  },
  {
   "cell_type": "code",
   "execution_count": 76,
   "id": "d453f0d6",
   "metadata": {},
   "outputs": [
    {
     "data": {
      "text/plain": [
       "age                  0\n",
       "workclass         1836\n",
       "fnlwgt               0\n",
       "education            0\n",
       "education-num        0\n",
       "marital-status       0\n",
       "occupation        1843\n",
       "relationship         0\n",
       "race                 0\n",
       "sex                  0\n",
       "capital-gain         0\n",
       "capital-loss         0\n",
       "hours-per-week       0\n",
       "native-country     583\n",
       "salary               0\n",
       "dtype: int64"
      ]
     },
     "execution_count": 76,
     "metadata": {},
     "output_type": "execute_result"
    }
   ],
   "source": [
    "data_row['workclass'].replace(' ?', np.nan, inplace=True)\n",
    "data_row['occupation'].replace(' ?', np.nan, inplace=True)\n",
    "data_row['native-country'].replace(' ?', np.nan, inplace=True)\n",
    "data_row.isnull().sum()"
   ]
  },
  {
   "cell_type": "raw",
   "id": "a7c6adf1",
   "metadata": {},
   "source": [
    "Заполним пропущенные данные наиболее популярными значения среди данного признака"
   ]
  },
  {
   "cell_type": "code",
   "execution_count": 77,
   "id": "6b7693d9",
   "metadata": {},
   "outputs": [
    {
     "data": {
      "text/plain": [
       "' Private'"
      ]
     },
     "execution_count": 77,
     "metadata": {},
     "output_type": "execute_result"
    }
   ],
   "source": [
    "data_row['workclass'].mode()[0]"
   ]
  },
  {
   "cell_type": "code",
   "execution_count": 78,
   "id": "c7466aca",
   "metadata": {},
   "outputs": [
    {
     "data": {
      "text/plain": [
       "' Craft-repair'"
      ]
     },
     "execution_count": 78,
     "metadata": {},
     "output_type": "execute_result"
    }
   ],
   "source": [
    "data_row['occupation'][data_row['workclass'] == data_row['workclass'].mode()[0]].mode()[0]   "
   ]
  },
  {
   "cell_type": "code",
   "execution_count": 79,
   "id": "5ab4cec4",
   "metadata": {},
   "outputs": [
    {
     "data": {
      "text/plain": [
       "' United-States'"
      ]
     },
     "execution_count": 79,
     "metadata": {},
     "output_type": "execute_result"
    }
   ],
   "source": [
    "data_row['native-country'].mode()[0]"
   ]
  },
  {
   "cell_type": "code",
   "execution_count": 80,
   "id": "7be7a4bd",
   "metadata": {},
   "outputs": [],
   "source": [
    "data_row['workclass'].fillna(data_row['workclass'].mode()[0], inplace=True)\n",
    "data_row['occupation'].fillna(data_row['occupation'][data_row['workclass'] == data_row['workclass'].mode()[0]].mode()[0], inplace=True)\n",
    "data_row['native-country'].fillna(data_row['native-country'].mode()[0], inplace=True)"
   ]
  },
  {
   "cell_type": "raw",
   "id": "f8bc965c",
   "metadata": {},
   "source": [
    "Проверка"
   ]
  },
  {
   "cell_type": "code",
   "execution_count": 81,
   "id": "870d39ae",
   "metadata": {},
   "outputs": [
    {
     "data": {
      "text/plain": [
       "age               0\n",
       "workclass         0\n",
       "fnlwgt            0\n",
       "education         0\n",
       "education-num     0\n",
       "marital-status    0\n",
       "occupation        0\n",
       "relationship      0\n",
       "race              0\n",
       "sex               0\n",
       "capital-gain      0\n",
       "capital-loss      0\n",
       "hours-per-week    0\n",
       "native-country    0\n",
       "salary            0\n",
       "dtype: int64"
      ]
     },
     "execution_count": 81,
     "metadata": {},
     "output_type": "execute_result"
    }
   ],
   "source": [
    "data_row.isnull().sum()"
   ]
  },
  {
   "cell_type": "raw",
   "id": "8ae76acb",
   "metadata": {},
   "source": [
    "После таго, как мы заполнили пропуски, вычислим  корреляционную матрицу"
   ]
  },
  {
   "cell_type": "code",
   "execution_count": 82,
   "id": "8a4692ac",
   "metadata": {},
   "outputs": [
    {
     "data": {
      "text/html": [
       "<div>\n",
       "<style scoped>\n",
       "    .dataframe tbody tr th:only-of-type {\n",
       "        vertical-align: middle;\n",
       "    }\n",
       "\n",
       "    .dataframe tbody tr th {\n",
       "        vertical-align: top;\n",
       "    }\n",
       "\n",
       "    .dataframe thead th {\n",
       "        text-align: right;\n",
       "    }\n",
       "</style>\n",
       "<table border=\"1\" class=\"dataframe\">\n",
       "  <thead>\n",
       "    <tr style=\"text-align: right;\">\n",
       "      <th></th>\n",
       "      <th>age</th>\n",
       "      <th>fnlwgt</th>\n",
       "      <th>education-num</th>\n",
       "      <th>capital-gain</th>\n",
       "      <th>capital-loss</th>\n",
       "      <th>hours-per-week</th>\n",
       "    </tr>\n",
       "  </thead>\n",
       "  <tbody>\n",
       "    <tr>\n",
       "      <th>age</th>\n",
       "      <td>1.000000</td>\n",
       "      <td>-0.076646</td>\n",
       "      <td>0.036527</td>\n",
       "      <td>0.077674</td>\n",
       "      <td>0.057775</td>\n",
       "      <td>0.068756</td>\n",
       "    </tr>\n",
       "    <tr>\n",
       "      <th>fnlwgt</th>\n",
       "      <td>-0.076646</td>\n",
       "      <td>1.000000</td>\n",
       "      <td>-0.043195</td>\n",
       "      <td>0.000432</td>\n",
       "      <td>-0.010252</td>\n",
       "      <td>-0.018768</td>\n",
       "    </tr>\n",
       "    <tr>\n",
       "      <th>education-num</th>\n",
       "      <td>0.036527</td>\n",
       "      <td>-0.043195</td>\n",
       "      <td>1.000000</td>\n",
       "      <td>0.122630</td>\n",
       "      <td>0.079923</td>\n",
       "      <td>0.148123</td>\n",
       "    </tr>\n",
       "    <tr>\n",
       "      <th>capital-gain</th>\n",
       "      <td>0.077674</td>\n",
       "      <td>0.000432</td>\n",
       "      <td>0.122630</td>\n",
       "      <td>1.000000</td>\n",
       "      <td>-0.031615</td>\n",
       "      <td>0.078409</td>\n",
       "    </tr>\n",
       "    <tr>\n",
       "      <th>capital-loss</th>\n",
       "      <td>0.057775</td>\n",
       "      <td>-0.010252</td>\n",
       "      <td>0.079923</td>\n",
       "      <td>-0.031615</td>\n",
       "      <td>1.000000</td>\n",
       "      <td>0.054256</td>\n",
       "    </tr>\n",
       "    <tr>\n",
       "      <th>hours-per-week</th>\n",
       "      <td>0.068756</td>\n",
       "      <td>-0.018768</td>\n",
       "      <td>0.148123</td>\n",
       "      <td>0.078409</td>\n",
       "      <td>0.054256</td>\n",
       "      <td>1.000000</td>\n",
       "    </tr>\n",
       "  </tbody>\n",
       "</table>\n",
       "</div>"
      ],
      "text/plain": [
       "                     age    fnlwgt  education-num  capital-gain  capital-loss  \\\n",
       "age             1.000000 -0.076646       0.036527      0.077674      0.057775   \n",
       "fnlwgt         -0.076646  1.000000      -0.043195      0.000432     -0.010252   \n",
       "education-num   0.036527 -0.043195       1.000000      0.122630      0.079923   \n",
       "capital-gain    0.077674  0.000432       0.122630      1.000000     -0.031615   \n",
       "capital-loss    0.057775 -0.010252       0.079923     -0.031615      1.000000   \n",
       "hours-per-week  0.068756 -0.018768       0.148123      0.078409      0.054256   \n",
       "\n",
       "                hours-per-week  \n",
       "age                   0.068756  \n",
       "fnlwgt               -0.018768  \n",
       "education-num         0.148123  \n",
       "capital-gain          0.078409  \n",
       "capital-loss          0.054256  \n",
       "hours-per-week        1.000000  "
      ]
     },
     "execution_count": 82,
     "metadata": {},
     "output_type": "execute_result"
    }
   ],
   "source": [
    "numeric_cols = data_row.select_dtypes(include=['int', 'float']).columns\n",
    "corr_matrix = data_row[numeric_cols].corr()\n",
    "corr_matrix"
   ]
  },
  {
   "cell_type": "code",
   "execution_count": 83,
   "id": "7072d579",
   "metadata": {},
   "outputs": [
    {
     "data": {
      "image/png": "[encoded data removed]",
      "text/plain": [
       "<Figure size 800x600 with 2 Axes>"
      ]
     },
     "metadata": {},
     "output_type": "display_data"
    }
   ],
   "source": [
    "plt.figure(figsize = (8,6))\n",
    "sns.heatmap(corr_matrix, annot=True, cmap='Blues')\n",
    "plt.show()"
   ]
  },
  {
   "cell_type": "raw",
   "id": "7b7830c4",
   "metadata": {},
   "source": [
    "Распределение зп в зависимости от рабочемго класса.\n",
    "Видим, что во всех вариантах, кроме самозанятых, людей с зарплатой ≤50 тыс. больше, чем >50 тыс."
   ]
  },
  {
   "cell_type": "code",
   "execution_count": 84,
   "id": "40be105c",
   "metadata": {},
   "outputs": [
    {
     "data": {
      "image/png": "[encoded data removed]",
      "text/plain": [
       "<Figure size 1000x400 with 1 Axes>"
      ]
     },
     "metadata": {},
     "output_type": "display_data"
    }
   ],
   "source": [
    "plt.figure(figsize=(10, 4))\n",
    "sns.countplot(data=data_row, x='workclass', hue ='salary')\n",
    "plt.show()"
   ]
  },
  {
   "cell_type": "raw",
   "id": "0aaf42e7",
   "metadata": {},
   "source": [
    "Распределение зп в зависимости от ур. образования\n",
    "Видим, что высокий уровень образования является важным фактором, связанным с зп"
   ]
  },
  {
   "cell_type": "code",
   "execution_count": 85,
   "id": "b0450bb5",
   "metadata": {},
   "outputs": [
    {
     "data": {
      "image/png": "[encoded data removed]",
      "text/plain": [
       "<Figure size 2000x600 with 1 Axes>"
      ]
     },
     "metadata": {},
     "output_type": "display_data"
    }
   ],
   "source": [
    "plt.figure(figsize=(20, 6))\n",
    "sns.countplot(data=data_row, x ='education', hue ='salary')\n",
    "plt.show()"
   ]
  },
  {
   "cell_type": "raw",
   "id": "6dec1393",
   "metadata": {},
   "source": [
    "Распределение зп в зависимости от семейного положения\n",
    "Видим, что много людей с зп >50тыс среди тех, кто находится в гражданском браке "
   ]
  },
  {
   "cell_type": "code",
   "execution_count": 86,
   "id": "c0e2301b",
   "metadata": {},
   "outputs": [
    {
     "data": {
      "image/png": "[encoded data removed]",
      "text/plain": [
       "<Figure size 1400x400 with 1 Axes>"
      ]
     },
     "metadata": {},
     "output_type": "display_data"
    }
   ],
   "source": [
    "plt.figure(figsize = (14, 4))\n",
    "sns.countplot(data = data_row, x ='marital-status', hue ='salary')\n",
    "plt.show()"
   ]
  },
  {
   "cell_type": "raw",
   "id": "d9016102",
   "metadata": {},
   "source": [
    "Распределение зп в зависимости от отношений\n",
    "Видим, что для людей со значением муж(Husband) и жена (wife) имеют примерно половину с  зп ≤50 тыс. и >50тыс.\n",
    "У остальных преобладающее большинство это ≤ 50 тыс."
   ]
  },
  {
   "cell_type": "code",
   "execution_count": 87,
   "id": "2fe0429a",
   "metadata": {},
   "outputs": [
    {
     "data": {
      "image/png": "[encoded data removed]",
      "text/plain": [
       "<Figure size 800x400 with 1 Axes>"
      ]
     },
     "metadata": {},
     "output_type": "display_data"
    }
   ],
   "source": [
    "plt.figure(figsize = (8, 4))\n",
    "sns.countplot(data = data_row, x ='relationship', hue ='salary')\n",
    "plt.show()"
   ]
  },
  {
   "cell_type": "raw",
   "id": "f74dce30",
   "metadata": {},
   "source": [
    "Распределение зп в зависимости от расы\n",
    "Видим, что среди белого населения, есть большое количество людей с большой зп"
   ]
  },
  {
   "cell_type": "code",
   "execution_count": 88,
   "id": "a8687bd6",
   "metadata": {},
   "outputs": [
    {
     "data": {
      "image/png": "[encoded data removed]",
      "text/plain": [
       "<Figure size 1000x400 with 1 Axes>"
      ]
     },
     "metadata": {},
     "output_type": "display_data"
    }
   ],
   "source": [
    "plt.figure(figsize = (10, 4))\n",
    "sns.countplot(data = data_row, x ='race', hue ='salary')\n",
    "plt.show()"
   ]
  },
  {
   "cell_type": "raw",
   "id": "ceb715f3",
   "metadata": {},
   "source": [
    "Распределение зп в зависимости от пола\n",
    "Видим, что колчиество мужчин с высокой зп гараздо больше, чем женщин"
   ]
  },
  {
   "cell_type": "code",
   "execution_count": 90,
   "id": "5eff862b",
   "metadata": {},
   "outputs": [
    {
     "data": {
      "image/png": "[encoded data removed]",
      "text/plain": [
       "<Figure size 400x600 with 1 Axes>"
      ]
     },
     "metadata": {},
     "output_type": "display_data"
    }
   ],
   "source": [
    "plt.figure(figsize = (4, 6))\n",
    "sns.countplot(data = data_row, x ='sex', hue ='salary')\n",
    "plt.show()"
   ]
  },
  {
   "cell_type": "raw",
   "id": "74612699",
   "metadata": {},
   "source": [
    "Распределение зп в зависимости от прироста или потери капитала\n",
    "Данные характеристики не влияют на уровень заработной платы.\n",
    "Больше всего людей с зп >50тыс. от 37 до 48 лет."
   ]
  },
  {
   "cell_type": "code",
   "execution_count": 91,
   "id": "e69ad8d9",
   "metadata": {},
   "outputs": [
    {
     "data": {
      "image/png": "[encoded data removed]",
      "text/plain": [
       "<Figure size 2000x1500 with 1 Axes>"
      ]
     },
     "metadata": {},
     "output_type": "display_data"
    }
   ],
   "source": [
    "plt.figure(figsize=(20, 15))\n",
    "sns.countplot(data=data_row, x='age', hue ='salary')\n",
    "plt.show()"
   ]
  },
  {
   "cell_type": "raw",
   "id": "55e6475e",
   "metadata": {},
   "source": [
    "Бинаризация: Проверим бинарность"
   ]
  },
  {
   "cell_type": "code",
   "execution_count": 92,
   "id": "9265929d",
   "metadata": {},
   "outputs": [
    {
     "data": {
      "text/plain": [
       "['sex', 'salary']"
      ]
     },
     "execution_count": 92,
     "metadata": {},
     "output_type": "execute_result"
    }
   ],
   "source": [
    "bin_category_parameters = [column for column in category_parameters if len(data_row[column].unique()) == 2]\n",
    "bin_category_parameters"
   ]
  },
  {
   "cell_type": "raw",
   "id": "de4a5522",
   "metadata": {},
   "source": [
    "Заменим представления признаков с object на bool"
   ]
  },
  {
   "cell_type": "code",
   "execution_count": 93,
   "id": "63c5dd75",
   "metadata": {},
   "outputs": [],
   "source": [
    "for column in bin_category_parameters:\n",
    "  data_row[column] = data_row[column].map({data_row[column].unique()[0]: 0, data_row[column].unique()[1]: 1})"
   ]
  },
  {
   "cell_type": "raw",
   "id": "f9de9972",
   "metadata": {},
   "source": [
    "Векторизация:Выделим признаки, которые нельзя классифицировать, как бинарные"
   ]
  },
  {
   "cell_type": "code",
   "execution_count": 94,
   "id": "18927422",
   "metadata": {},
   "outputs": [
    {
     "data": {
      "text/plain": [
       "['workclass',\n",
       " 'education',\n",
       " 'marital-status',\n",
       " 'occupation',\n",
       " 'relationship',\n",
       " 'race',\n",
       " 'native-country']"
      ]
     },
     "execution_count": 94,
     "metadata": {},
     "output_type": "execute_result"
    }
   ],
   "source": [
    "Notbin_category_parameters = [column for column in category_parameters if column not in bin_category_parameters]\n",
    "Notbin_category_parameters"
   ]
  },
  {
   "cell_type": "raw",
   "id": "2dc6158b",
   "metadata": {},
   "source": [
    "Для каждого категориального признака, который не является бинарным, заменим его на несколько новых булевых признаков, равное количеству возможных категорий этого признака"
   ]
  },
  {
   "cell_type": "code",
   "execution_count": 95,
   "id": "e92a10fb",
   "metadata": {},
   "outputs": [],
   "source": [
    "data_row = pd.get_dummies(data_row, columns = Notbin_category_parameters, drop_first=True)"
   ]
  },
  {
   "cell_type": "code",
   "execution_count": 96,
   "id": "bc0585b2",
   "metadata": {},
   "outputs": [
    {
     "name": "stdout",
     "output_type": "stream",
     "text": [
      "<class 'pandas.core.frame.DataFrame'>\n",
      "RangeIndex: 32561 entries, 0 to 32560\n",
      "Data columns (total 98 columns):\n",
      " #   Column                                      Non-Null Count  Dtype\n",
      "---  ------                                      --------------  -----\n",
      " 0   age                                         32561 non-null  int64\n",
      " 1   fnlwgt                                      32561 non-null  int64\n",
      " 2   education-num                               32561 non-null  int64\n",
      " 3   sex                                         32561 non-null  int64\n",
      " 4   capital-gain                                32561 non-null  int64\n",
      " 5   capital-loss                                32561 non-null  int64\n",
      " 6   hours-per-week                              32561 non-null  int64\n",
      " 7   salary                                      32561 non-null  int64\n",
      " 8   workclass_ Local-gov                        32561 non-null  uint8\n",
      " 9   workclass_ Never-worked                     32561 non-null  uint8\n",
      " 10  workclass_ Private                          32561 non-null  uint8\n",
      " 11  workclass_ Self-emp-inc                     32561 non-null  uint8\n",
      " 12  workclass_ Self-emp-not-inc                 32561 non-null  uint8\n",
      " 13  workclass_ State-gov                        32561 non-null  uint8\n",
      " 14  workclass_ Without-pay                      32561 non-null  uint8\n",
      " 15  education_ 11th                             32561 non-null  uint8\n",
      " 16  education_ 12th                             32561 non-null  uint8\n",
      " 17  education_ 1st-4th                          32561 non-null  uint8\n",
      " 18  education_ 5th-6th                          32561 non-null  uint8\n",
      " 19  education_ 7th-8th                          32561 non-null  uint8\n",
      " 20  education_ 9th                              32561 non-null  uint8\n",
      " 21  education_ Assoc-acdm                       32561 non-null  uint8\n",
      " 22  education_ Assoc-voc                        32561 non-null  uint8\n",
      " 23  education_ Bachelors                        32561 non-null  uint8\n",
      " 24  education_ Doctorate                        32561 non-null  uint8\n",
      " 25  education_ HS-grad                          32561 non-null  uint8\n",
      " 26  education_ Masters                          32561 non-null  uint8\n",
      " 27  education_ Preschool                        32561 non-null  uint8\n",
      " 28  education_ Prof-school                      32561 non-null  uint8\n",
      " 29  education_ Some-college                     32561 non-null  uint8\n",
      " 30  marital-status_ Married-AF-spouse           32561 non-null  uint8\n",
      " 31  marital-status_ Married-civ-spouse          32561 non-null  uint8\n",
      " 32  marital-status_ Married-spouse-absent       32561 non-null  uint8\n",
      " 33  marital-status_ Never-married               32561 non-null  uint8\n",
      " 34  marital-status_ Separated                   32561 non-null  uint8\n",
      " 35  marital-status_ Widowed                     32561 non-null  uint8\n",
      " 36  occupation_ Armed-Forces                    32561 non-null  uint8\n",
      " 37  occupation_ Craft-repair                    32561 non-null  uint8\n",
      " 38  occupation_ Exec-managerial                 32561 non-null  uint8\n",
      " 39  occupation_ Farming-fishing                 32561 non-null  uint8\n",
      " 40  occupation_ Handlers-cleaners               32561 non-null  uint8\n",
      " 41  occupation_ Machine-op-inspct               32561 non-null  uint8\n",
      " 42  occupation_ Other-service                   32561 non-null  uint8\n",
      " 43  occupation_ Priv-house-serv                 32561 non-null  uint8\n",
      " 44  occupation_ Prof-specialty                  32561 non-null  uint8\n",
      " 45  occupation_ Protective-serv                 32561 non-null  uint8\n",
      " 46  occupation_ Sales                           32561 non-null  uint8\n",
      " 47  occupation_ Tech-support                    32561 non-null  uint8\n",
      " 48  occupation_ Transport-moving                32561 non-null  uint8\n",
      " 49  relationship_ Not-in-family                 32561 non-null  uint8\n",
      " 50  relationship_ Other-relative                32561 non-null  uint8\n",
      " 51  relationship_ Own-child                     32561 non-null  uint8\n",
      " 52  relationship_ Unmarried                     32561 non-null  uint8\n",
      " 53  relationship_ Wife                          32561 non-null  uint8\n",
      " 54  race_ Asian-Pac-Islander                    32561 non-null  uint8\n",
      " 55  race_ Black                                 32561 non-null  uint8\n",
      " 56  race_ Other                                 32561 non-null  uint8\n",
      " 57  race_ White                                 32561 non-null  uint8\n",
      " 58  native-country_ Canada                      32561 non-null  uint8\n",
      " 59  native-country_ China                       32561 non-null  uint8\n",
      " 60  native-country_ Columbia                    32561 non-null  uint8\n",
      " 61  native-country_ Cuba                        32561 non-null  uint8\n",
      " 62  native-country_ Dominican-Republic          32561 non-null  uint8\n",
      " 63  native-country_ Ecuador                     32561 non-null  uint8\n",
      " 64  native-country_ El-Salvador                 32561 non-null  uint8\n",
      " 65  native-country_ England                     32561 non-null  uint8\n",
      " 66  native-country_ France                      32561 non-null  uint8\n",
      " 67  native-country_ Germany                     32561 non-null  uint8\n",
      " 68  native-country_ Greece                      32561 non-null  uint8\n",
      " 69  native-country_ Guatemala                   32561 non-null  uint8\n",
      " 70  native-country_ Haiti                       32561 non-null  uint8\n",
      " 71  native-country_ Holand-Netherlands          32561 non-null  uint8\n",
      " 72  native-country_ Honduras                    32561 non-null  uint8\n",
      " 73  native-country_ Hong                        32561 non-null  uint8\n",
      " 74  native-country_ Hungary                     32561 non-null  uint8\n",
      " 75  native-country_ India                       32561 non-null  uint8\n",
      " 76  native-country_ Iran                        32561 non-null  uint8\n",
      " 77  native-country_ Ireland                     32561 non-null  uint8\n",
      " 78  native-country_ Italy                       32561 non-null  uint8\n",
      " 79  native-country_ Jamaica                     32561 non-null  uint8\n",
      " 80  native-country_ Japan                       32561 non-null  uint8\n",
      " 81  native-country_ Laos                        32561 non-null  uint8\n",
      " 82  native-country_ Mexico                      32561 non-null  uint8\n",
      " 83  native-country_ Nicaragua                   32561 non-null  uint8\n",
      " 84  native-country_ Outlying-US(Guam-USVI-etc)  32561 non-null  uint8\n",
      " 85  native-country_ Peru                        32561 non-null  uint8\n",
      " 86  native-country_ Philippines                 32561 non-null  uint8\n",
      " 87  native-country_ Poland                      32561 non-null  uint8\n",
      " 88  native-country_ Portugal                    32561 non-null  uint8\n",
      " 89  native-country_ Puerto-Rico                 32561 non-null  uint8\n",
      " 90  native-country_ Scotland                    32561 non-null  uint8\n",
      " 91  native-country_ South                       32561 non-null  uint8\n",
      " 92  native-country_ Taiwan                      32561 non-null  uint8\n",
      " 93  native-country_ Thailand                    32561 non-null  uint8\n",
      " 94  native-country_ Trinadad&Tobago             32561 non-null  uint8\n",
      " 95  native-country_ United-States               32561 non-null  uint8\n",
      " 96  native-country_ Vietnam                     32561 non-null  uint8\n",
      " 97  native-country_ Yugoslavia                  32561 non-null  uint8\n",
      "dtypes: int64(8), uint8(90)\n",
      "memory usage: 4.8 MB\n"
     ]
    }
   ],
   "source": [
    "data_row.info()"
   ]
  },
  {
   "cell_type": "raw",
   "id": "cf1cc33f",
   "metadata": {},
   "source": [
    "Теперь все признаки либо int либо bool, примеры снизу"
   ]
  },
  {
   "cell_type": "code",
   "execution_count": 97,
   "id": "12fcd1da",
   "metadata": {},
   "outputs": [
    {
     "data": {
      "text/plain": [
       "0        0\n",
       "1        0\n",
       "2        0\n",
       "3        0\n",
       "4        1\n",
       "        ..\n",
       "32556    1\n",
       "32557    0\n",
       "32558    1\n",
       "32559    0\n",
       "32560    1\n",
       "Name: sex, Length: 32561, dtype: int64"
      ]
     },
     "execution_count": 97,
     "metadata": {},
     "output_type": "execute_result"
    }
   ],
   "source": [
    "data_row.sex"
   ]
  },
  {
   "cell_type": "code",
   "execution_count": 98,
   "id": "7a324bed",
   "metadata": {},
   "outputs": [
    {
     "data": {
      "text/plain": [
       "0        0\n",
       "1        0\n",
       "2        0\n",
       "3        0\n",
       "4        0\n",
       "        ..\n",
       "32556    0\n",
       "32557    1\n",
       "32558    0\n",
       "32559    0\n",
       "32560    1\n",
       "Name: salary, Length: 32561, dtype: int64"
      ]
     },
     "execution_count": 98,
     "metadata": {},
     "output_type": "execute_result"
    }
   ],
   "source": [
    "data_row.salary"
   ]
  },
  {
   "cell_type": "raw",
   "id": "15a7f572",
   "metadata": {},
   "source": [
    "Для проверки нормолизации,т.к. признаки прироста и потери капитала (capital-gain и capital-loss) в основном имеют нулевые значения и похожи на выбросы, удалим эти значения. Также обработаем признак \"статус образования\" (education-num), т.к. он является числовым представлением признака \"образование\" (education) с практически идентичными значениями. В признаке \"статус образования\" (education-num) значения просто упорядочены в соответствии с порядком значений, записанных в признаке \"образование\" (education), формируя числовую последовательность."
   ]
  },
  {
   "cell_type": "code",
   "execution_count": 99,
   "id": "5179584d",
   "metadata": {},
   "outputs": [],
   "source": [
    "data_row.drop('fnlwgt', axis=1, inplace=True)\n",
    "data_row.drop('education-num', axis=1, inplace=True)\n",
    "data_row.drop('capital-gain', axis=1, inplace=True)\n",
    "data_row.drop('capital-loss', axis=1, inplace=True)"
   ]
  },
  {
   "cell_type": "raw",
   "id": "1388101c",
   "metadata": {},
   "source": [
    "Проведем нормализацию:\n",
    "Приведем значения числовым признаков к значения от 0 до 1\n",
    "Выделим сначала все числовые признаки из data_row"
   ]
  },
  {
   "cell_type": "code",
   "execution_count": 100,
   "id": "a1701096",
   "metadata": {},
   "outputs": [],
   "source": [
    "normalized_numeric_parameters = [column for column in data_row.columns if data_row[column].dtype.name != 'object']"
   ]
  },
  {
   "cell_type": "raw",
   "id": "1dbd9149",
   "metadata": {},
   "source": [
    "Применим нормализацию (воспользуемся методом MinMaxScaler из scikit-learn)"
   ]
  },
  {
   "cell_type": "code",
   "execution_count": 101,
   "id": "fea3bdde",
   "metadata": {},
   "outputs": [],
   "source": [
    "scaler = MinMaxScaler()\n",
    "data_row[normalized_numeric_parameters] = scaler.fit_transform(data_row[normalized_numeric_parameters])"
   ]
  },
  {
   "cell_type": "raw",
   "id": "5f02dc24",
   "metadata": {},
   "source": [
    "Выведем основные хар-ки"
   ]
  },
  {
   "cell_type": "code",
   "execution_count": 102,
   "id": "00859fec",
   "metadata": {},
   "outputs": [
    {
     "data": {
      "text/html": [
       "<div>\n",
       "<style scoped>\n",
       "    .dataframe tbody tr th:only-of-type {\n",
       "        vertical-align: middle;\n",
       "    }\n",
       "\n",
       "    .dataframe tbody tr th {\n",
       "        vertical-align: top;\n",
       "    }\n",
       "\n",
       "    .dataframe thead th {\n",
       "        text-align: right;\n",
       "    }\n",
       "</style>\n",
       "<table border=\"1\" class=\"dataframe\">\n",
       "  <thead>\n",
       "    <tr style=\"text-align: right;\">\n",
       "      <th></th>\n",
       "      <th>age</th>\n",
       "      <th>sex</th>\n",
       "      <th>hours-per-week</th>\n",
       "      <th>salary</th>\n",
       "      <th>workclass_ Local-gov</th>\n",
       "      <th>workclass_ Never-worked</th>\n",
       "      <th>workclass_ Private</th>\n",
       "      <th>workclass_ Self-emp-inc</th>\n",
       "      <th>workclass_ Self-emp-not-inc</th>\n",
       "      <th>workclass_ State-gov</th>\n",
       "      <th>...</th>\n",
       "      <th>native-country_ Portugal</th>\n",
       "      <th>native-country_ Puerto-Rico</th>\n",
       "      <th>native-country_ Scotland</th>\n",
       "      <th>native-country_ South</th>\n",
       "      <th>native-country_ Taiwan</th>\n",
       "      <th>native-country_ Thailand</th>\n",
       "      <th>native-country_ Trinadad&amp;Tobago</th>\n",
       "      <th>native-country_ United-States</th>\n",
       "      <th>native-country_ Vietnam</th>\n",
       "      <th>native-country_ Yugoslavia</th>\n",
       "    </tr>\n",
       "  </thead>\n",
       "  <tbody>\n",
       "    <tr>\n",
       "      <th>count</th>\n",
       "      <td>32561.000000</td>\n",
       "      <td>32561.000000</td>\n",
       "      <td>32561.000000</td>\n",
       "      <td>32561.000000</td>\n",
       "      <td>32561.000000</td>\n",
       "      <td>32561.000000</td>\n",
       "      <td>32561.000000</td>\n",
       "      <td>32561.000000</td>\n",
       "      <td>32561.000000</td>\n",
       "      <td>32561.000000</td>\n",
       "      <td>...</td>\n",
       "      <td>32561.000000</td>\n",
       "      <td>32561.000000</td>\n",
       "      <td>32561.000000</td>\n",
       "      <td>32561.000000</td>\n",
       "      <td>32561.000000</td>\n",
       "      <td>32561.000000</td>\n",
       "      <td>32561.000000</td>\n",
       "      <td>32561.000000</td>\n",
       "      <td>32561.000000</td>\n",
       "      <td>32561.000000</td>\n",
       "    </tr>\n",
       "    <tr>\n",
       "      <th>mean</th>\n",
       "      <td>0.295639</td>\n",
       "      <td>0.330795</td>\n",
       "      <td>0.402423</td>\n",
       "      <td>0.240810</td>\n",
       "      <td>0.064279</td>\n",
       "      <td>0.000215</td>\n",
       "      <td>0.753417</td>\n",
       "      <td>0.034274</td>\n",
       "      <td>0.078038</td>\n",
       "      <td>0.039864</td>\n",
       "      <td>...</td>\n",
       "      <td>0.001136</td>\n",
       "      <td>0.003501</td>\n",
       "      <td>0.000369</td>\n",
       "      <td>0.002457</td>\n",
       "      <td>0.001566</td>\n",
       "      <td>0.000553</td>\n",
       "      <td>0.000584</td>\n",
       "      <td>0.913762</td>\n",
       "      <td>0.002058</td>\n",
       "      <td>0.000491</td>\n",
       "    </tr>\n",
       "    <tr>\n",
       "      <th>std</th>\n",
       "      <td>0.186855</td>\n",
       "      <td>0.470506</td>\n",
       "      <td>0.125994</td>\n",
       "      <td>0.427581</td>\n",
       "      <td>0.245254</td>\n",
       "      <td>0.014661</td>\n",
       "      <td>0.431029</td>\n",
       "      <td>0.181935</td>\n",
       "      <td>0.268236</td>\n",
       "      <td>0.195642</td>\n",
       "      <td>...</td>\n",
       "      <td>0.033691</td>\n",
       "      <td>0.059068</td>\n",
       "      <td>0.019194</td>\n",
       "      <td>0.049507</td>\n",
       "      <td>0.039546</td>\n",
       "      <td>0.023506</td>\n",
       "      <td>0.024149</td>\n",
       "      <td>0.280720</td>\n",
       "      <td>0.045316</td>\n",
       "      <td>0.022162</td>\n",
       "    </tr>\n",
       "    <tr>\n",
       "      <th>min</th>\n",
       "      <td>0.000000</td>\n",
       "      <td>0.000000</td>\n",
       "      <td>0.000000</td>\n",
       "      <td>0.000000</td>\n",
       "      <td>0.000000</td>\n",
       "      <td>0.000000</td>\n",
       "      <td>0.000000</td>\n",
       "      <td>0.000000</td>\n",
       "      <td>0.000000</td>\n",
       "      <td>0.000000</td>\n",
       "      <td>...</td>\n",
       "      <td>0.000000</td>\n",
       "      <td>0.000000</td>\n",
       "      <td>0.000000</td>\n",
       "      <td>0.000000</td>\n",
       "      <td>0.000000</td>\n",
       "      <td>0.000000</td>\n",
       "      <td>0.000000</td>\n",
       "      <td>0.000000</td>\n",
       "      <td>0.000000</td>\n",
       "      <td>0.000000</td>\n",
       "    </tr>\n",
       "    <tr>\n",
       "      <th>25%</th>\n",
       "      <td>0.150685</td>\n",
       "      <td>0.000000</td>\n",
       "      <td>0.397959</td>\n",
       "      <td>0.000000</td>\n",
       "      <td>0.000000</td>\n",
       "      <td>0.000000</td>\n",
       "      <td>1.000000</td>\n",
       "      <td>0.000000</td>\n",
       "      <td>0.000000</td>\n",
       "      <td>0.000000</td>\n",
       "      <td>...</td>\n",
       "      <td>0.000000</td>\n",
       "      <td>0.000000</td>\n",
       "      <td>0.000000</td>\n",
       "      <td>0.000000</td>\n",
       "      <td>0.000000</td>\n",
       "      <td>0.000000</td>\n",
       "      <td>0.000000</td>\n",
       "      <td>1.000000</td>\n",
       "      <td>0.000000</td>\n",
       "      <td>0.000000</td>\n",
       "    </tr>\n",
       "    <tr>\n",
       "      <th>50%</th>\n",
       "      <td>0.273973</td>\n",
       "      <td>0.000000</td>\n",
       "      <td>0.397959</td>\n",
       "      <td>0.000000</td>\n",
       "      <td>0.000000</td>\n",
       "      <td>0.000000</td>\n",
       "      <td>1.000000</td>\n",
       "      <td>0.000000</td>\n",
       "      <td>0.000000</td>\n",
       "      <td>0.000000</td>\n",
       "      <td>...</td>\n",
       "      <td>0.000000</td>\n",
       "      <td>0.000000</td>\n",
       "      <td>0.000000</td>\n",
       "      <td>0.000000</td>\n",
       "      <td>0.000000</td>\n",
       "      <td>0.000000</td>\n",
       "      <td>0.000000</td>\n",
       "      <td>1.000000</td>\n",
       "      <td>0.000000</td>\n",
       "      <td>0.000000</td>\n",
       "    </tr>\n",
       "    <tr>\n",
       "      <th>75%</th>\n",
       "      <td>0.424658</td>\n",
       "      <td>1.000000</td>\n",
       "      <td>0.448980</td>\n",
       "      <td>0.000000</td>\n",
       "      <td>0.000000</td>\n",
       "      <td>0.000000</td>\n",
       "      <td>1.000000</td>\n",
       "      <td>0.000000</td>\n",
       "      <td>0.000000</td>\n",
       "      <td>0.000000</td>\n",
       "      <td>...</td>\n",
       "      <td>0.000000</td>\n",
       "      <td>0.000000</td>\n",
       "      <td>0.000000</td>\n",
       "      <td>0.000000</td>\n",
       "      <td>0.000000</td>\n",
       "      <td>0.000000</td>\n",
       "      <td>0.000000</td>\n",
       "      <td>1.000000</td>\n",
       "      <td>0.000000</td>\n",
       "      <td>0.000000</td>\n",
       "    </tr>\n",
       "    <tr>\n",
       "      <th>max</th>\n",
       "      <td>1.000000</td>\n",
       "      <td>1.000000</td>\n",
       "      <td>1.000000</td>\n",
       "      <td>1.000000</td>\n",
       "      <td>1.000000</td>\n",
       "      <td>1.000000</td>\n",
       "      <td>1.000000</td>\n",
       "      <td>1.000000</td>\n",
       "      <td>1.000000</td>\n",
       "      <td>1.000000</td>\n",
       "      <td>...</td>\n",
       "      <td>1.000000</td>\n",
       "      <td>1.000000</td>\n",
       "      <td>1.000000</td>\n",
       "      <td>1.000000</td>\n",
       "      <td>1.000000</td>\n",
       "      <td>1.000000</td>\n",
       "      <td>1.000000</td>\n",
       "      <td>1.000000</td>\n",
       "      <td>1.000000</td>\n",
       "      <td>1.000000</td>\n",
       "    </tr>\n",
       "  </tbody>\n",
       "</table>\n",
       "<p>8 rows × 94 columns</p>\n",
       "</div>"
      ],
      "text/plain": [
       "                age           sex  hours-per-week        salary  \\\n",
       "count  32561.000000  32561.000000    32561.000000  32561.000000   \n",
       "mean       0.295639      0.330795        0.402423      0.240810   \n",
       "std        0.186855      0.470506        0.125994      0.427581   \n",
       "min        0.000000      0.000000        0.000000      0.000000   \n",
       "25%        0.150685      0.000000        0.397959      0.000000   \n",
       "50%        0.273973      0.000000        0.397959      0.000000   \n",
       "75%        0.424658      1.000000        0.448980      0.000000   \n",
       "max        1.000000      1.000000        1.000000      1.000000   \n",
       "\n",
       "       workclass_ Local-gov  workclass_ Never-worked  workclass_ Private  \\\n",
       "count          32561.000000             32561.000000        32561.000000   \n",
       "mean               0.064279                 0.000215            0.753417   \n",
       "std                0.245254                 0.014661            0.431029   \n",
       "min                0.000000                 0.000000            0.000000   \n",
       "25%                0.000000                 0.000000            1.000000   \n",
       "50%                0.000000                 0.000000            1.000000   \n",
       "75%                0.000000                 0.000000            1.000000   \n",
       "max                1.000000                 1.000000            1.000000   \n",
       "\n",
       "       workclass_ Self-emp-inc  workclass_ Self-emp-not-inc  \\\n",
       "count             32561.000000                 32561.000000   \n",
       "mean                  0.034274                     0.078038   \n",
       "std                   0.181935                     0.268236   \n",
       "min                   0.000000                     0.000000   \n",
       "25%                   0.000000                     0.000000   \n",
       "50%                   0.000000                     0.000000   \n",
       "75%                   0.000000                     0.000000   \n",
       "max                   1.000000                     1.000000   \n",
       "\n",
       "       workclass_ State-gov  ...  native-country_ Portugal  \\\n",
       "count          32561.000000  ...              32561.000000   \n",
       "mean               0.039864  ...                  0.001136   \n",
       "std                0.195642  ...                  0.033691   \n",
       "min                0.000000  ...                  0.000000   \n",
       "25%                0.000000  ...                  0.000000   \n",
       "50%                0.000000  ...                  0.000000   \n",
       "75%                0.000000  ...                  0.000000   \n",
       "max                1.000000  ...                  1.000000   \n",
       "\n",
       "       native-country_ Puerto-Rico  native-country_ Scotland  \\\n",
       "count                 32561.000000              32561.000000   \n",
       "mean                      0.003501                  0.000369   \n",
       "std                       0.059068                  0.019194   \n",
       "min                       0.000000                  0.000000   \n",
       "25%                       0.000000                  0.000000   \n",
       "50%                       0.000000                  0.000000   \n",
       "75%                       0.000000                  0.000000   \n",
       "max                       1.000000                  1.000000   \n",
       "\n",
       "       native-country_ South  native-country_ Taiwan  \\\n",
       "count           32561.000000            32561.000000   \n",
       "mean                0.002457                0.001566   \n",
       "std                 0.049507                0.039546   \n",
       "min                 0.000000                0.000000   \n",
       "25%                 0.000000                0.000000   \n",
       "50%                 0.000000                0.000000   \n",
       "75%                 0.000000                0.000000   \n",
       "max                 1.000000                1.000000   \n",
       "\n",
       "       native-country_ Thailand  native-country_ Trinadad&Tobago  \\\n",
       "count              32561.000000                     32561.000000   \n",
       "mean                   0.000553                         0.000584   \n",
       "std                    0.023506                         0.024149   \n",
       "min                    0.000000                         0.000000   \n",
       "25%                    0.000000                         0.000000   \n",
       "50%                    0.000000                         0.000000   \n",
       "75%                    0.000000                         0.000000   \n",
       "max                    1.000000                         1.000000   \n",
       "\n",
       "       native-country_ United-States  native-country_ Vietnam  \\\n",
       "count                   32561.000000             32561.000000   \n",
       "mean                        0.913762                 0.002058   \n",
       "std                         0.280720                 0.045316   \n",
       "min                         0.000000                 0.000000   \n",
       "25%                         1.000000                 0.000000   \n",
       "50%                         1.000000                 0.000000   \n",
       "75%                         1.000000                 0.000000   \n",
       "max                         1.000000                 1.000000   \n",
       "\n",
       "       native-country_ Yugoslavia  \n",
       "count                32561.000000  \n",
       "mean                     0.000491  \n",
       "std                      0.022162  \n",
       "min                      0.000000  \n",
       "25%                      0.000000  \n",
       "50%                      0.000000  \n",
       "75%                      0.000000  \n",
       "max                      1.000000  \n",
       "\n",
       "[8 rows x 94 columns]"
      ]
     },
     "execution_count": 102,
     "metadata": {},
     "output_type": "execute_result"
    }
   ],
   "source": [
    "data_row.describe()"
   ]
  },
  {
   "cell_type": "markdown",
   "id": "137c198c",
   "metadata": {},
   "source": [
    "# Сбалансированность"
   ]
  },
  {
   "cell_type": "markdown",
   "id": "2859eb7b",
   "metadata": {},
   "source": [
    "Проверим признак уровень зарплаты на сбалансированность"
   ]
  },
  {
   "cell_type": "code",
   "execution_count": 103,
   "id": "a564cf89",
   "metadata": {},
   "outputs": [
    {
     "data": {
      "image/png": "[encoded data removed]",
      "text/plain": [
       "<Figure size 400x400 with 1 Axes>"
      ]
     },
     "metadata": {},
     "output_type": "display_data"
    }
   ],
   "source": [
    "plt.figure(figsize=(4, 4))\n",
    "colors = sns.color_palette()\n",
    "\n",
    "labels = ['≤50K', \">50K\"]\n",
    "\n",
    "plt.pie([data_row['salary'].value_counts()[0], data_row['salary'].value_counts()[1]], labels=labels, colors=colors, autopct='%.0f%%')\n",
    "plt.show()"
   ]
  },
  {
   "cell_type": "markdown",
   "id": "858954e9",
   "metadata": {},
   "source": [
    "Мы можем решить проблему дисбаланса классов: применим метод увеличения числа примеров миноритарного класса с помощью SMOTE (Synthetic Minority Over-sampling Technique ).\n",
    "Генерируем синтетические данные"
   ]
  },
  {
   "cell_type": "code",
   "execution_count": 48,
   "id": "6b2245e4",
   "metadata": {},
   "outputs": [],
   "source": [
    "X = data_row.iloc[:, data_row.columns != 'salary']\n",
    "y = data_row['salary']\n",
    "\n",
    "smote = SMOTE()\n",
    "X_resampled, y_resampled = smote.fit_resample(X, y)"
   ]
  },
  {
   "cell_type": "markdown",
   "id": "76e7a418",
   "metadata": {},
   "source": [
    "Ниже представлен результат"
   ]
  },
  {
   "cell_type": "code",
   "execution_count": 49,
   "id": "5367c841",
   "metadata": {},
   "outputs": [
    {
     "data": {
      "image/png": "[encoded data removed]",
      "text/plain": [
       "<Figure size 400x400 with 1 Axes>"
      ]
     },
     "metadata": {},
     "output_type": "display_data"
    }
   ],
   "source": [
    "plt.figure(figsize = (4, 4))\n",
    "colors = sns.color_palette()\n",
    "\n",
    "labels = ['≤50K', \">50K\"]\n",
    "\n",
    "plt.pie([y_resampled.value_counts()[0], y_resampled.value_counts()[1]], labels=labels, colors=colors, autopct='%.0f%%')\n",
    "plt.show()"
   ]
  },
  {
   "cell_type": "markdown",
   "id": "47f6fc2f",
   "metadata": {},
   "source": [
    "# Разбиение данных на тестовую и обучающую выборку"
   ]
  },
  {
   "cell_type": "markdown",
   "id": "fe650fc8",
   "metadata": {},
   "source": [
    "Разбиение 70(обучающая)/30(тестовая)"
   ]
  },
  {
   "cell_type": "code",
   "execution_count": 54,
   "id": "9e6fb52f",
   "metadata": {},
   "outputs": [],
   "source": [
    "X_train, X_test, y_train, y_test = train_test_split(X_resampled, y_resampled, test_size=0.3, shuffle=True, random_state=17)"
   ]
  },
  {
   "cell_type": "markdown",
   "id": "ab91f781",
   "metadata": {},
   "source": [
    "Кол-во объектов в обучающей выборке"
   ]
  },
  {
   "cell_type": "code",
   "execution_count": 55,
   "id": "48dd608b",
   "metadata": {},
   "outputs": [
    {
     "data": {
      "text/plain": [
       "34608"
      ]
     },
     "execution_count": 55,
     "metadata": {},
     "output_type": "execute_result"
    }
   ],
   "source": [
    "X_train.shape[0]"
   ]
  },
  {
   "cell_type": "markdown",
   "id": "8c0d8bbd",
   "metadata": {},
   "source": [
    "Кол-во объектов в тестовой выборке"
   ]
  },
  {
   "cell_type": "code",
   "execution_count": 56,
   "id": "f40dc84f",
   "metadata": {},
   "outputs": [
    {
     "data": {
      "text/plain": [
       "14832"
      ]
     },
     "execution_count": 56,
     "metadata": {},
     "output_type": "execute_result"
    }
   ],
   "source": [
    "X_test.shape[0] "
   ]
  },
  {
   "cell_type": "markdown",
   "id": "6c36bfb6",
   "metadata": {},
   "source": [
    "# Применение классификатора KNN(Алгоритм К-ближайших соседей)"
   ]
  },
  {
   "cell_type": "markdown",
   "id": "2bc3f117",
   "metadata": {},
   "source": [
    "1. Простота и лёгкость в реализации\n",
    "2. Эффективность на небольших наборах данных\n",
    "3. Легко обновляется при добавлении новых данных"
   ]
  },
  {
   "cell_type": "markdown",
   "id": "59ca161c",
   "metadata": {},
   "source": [
    "k=1"
   ]
  },
  {
   "cell_type": "code",
   "execution_count": 66,
   "id": "e71cbddc",
   "metadata": {},
   "outputs": [
    {
     "name": "stderr",
     "output_type": "stream",
     "text": [
      "C:\\anaconda\\lib\\site-packages\\sklearn\\neighbors\\_classification.py:228: FutureWarning: Unlike other reduction functions (e.g. `skew`, `kurtosis`), the default behavior of `mode` typically preserves the axis it acts along. In SciPy 1.11.0, this behavior will change: the default value of `keepdims` will become False, the `axis` over which the statistic is taken will be eliminated, and the value None will no longer be accepted. Set `keepdims` to True or False to avoid this warning.\n",
      "  mode, _ = stats.mode(_y[neigh_ind, k], axis=1)\n",
      "C:\\anaconda\\lib\\site-packages\\sklearn\\neighbors\\_classification.py:228: FutureWarning: Unlike other reduction functions (e.g. `skew`, `kurtosis`), the default behavior of `mode` typically preserves the axis it acts along. In SciPy 1.11.0, this behavior will change: the default value of `keepdims` will become False, the `axis` over which the statistic is taken will be eliminated, and the value None will no longer be accepted. Set `keepdims` to True or False to avoid this warning.\n",
      "  mode, _ = stats.mode(_y[neigh_ind, k], axis=1)\n"
     ]
    },
    {
     "data": {
      "text/plain": [
       "(0.9738788719371244, 0.8362324703344121)"
      ]
     },
     "execution_count": 66,
     "metadata": {},
     "output_type": "execute_result"
    }
   ],
   "source": [
    "knn = KNeighborsClassifier(n_neighbors = 1)\n",
    "knn.fit(X_train, y_train)\n",
    "knn.score(X_train, y_train), knn.score(X_test, y_test) "
   ]
  },
  {
   "cell_type": "markdown",
   "id": "93955219",
   "metadata": {},
   "source": [
    "Точность на обучающей выборке: 0.9738788719371244\n",
    "Точность на тестовой выборке: 0.8362324703344121"
   ]
  },
  {
   "cell_type": "markdown",
   "id": "24ad6a92",
   "metadata": {},
   "source": [
    "k=2"
   ]
  },
  {
   "cell_type": "code",
   "execution_count": 65,
   "id": "81cb4c58",
   "metadata": {},
   "outputs": [
    {
     "name": "stderr",
     "output_type": "stream",
     "text": [
      "C:\\anaconda\\lib\\site-packages\\sklearn\\neighbors\\_classification.py:228: FutureWarning: Unlike other reduction functions (e.g. `skew`, `kurtosis`), the default behavior of `mode` typically preserves the axis it acts along. In SciPy 1.11.0, this behavior will change: the default value of `keepdims` will become False, the `axis` over which the statistic is taken will be eliminated, and the value None will no longer be accepted. Set `keepdims` to True or False to avoid this warning.\n",
      "  mode, _ = stats.mode(_y[neigh_ind, k], axis=1)\n",
      "C:\\anaconda\\lib\\site-packages\\sklearn\\neighbors\\_classification.py:228: FutureWarning: Unlike other reduction functions (e.g. `skew`, `kurtosis`), the default behavior of `mode` typically preserves the axis it acts along. In SciPy 1.11.0, this behavior will change: the default value of `keepdims` will become False, the `axis` over which the statistic is taken will be eliminated, and the value None will no longer be accepted. Set `keepdims` to True or False to avoid this warning.\n",
      "  mode, _ = stats.mode(_y[neigh_ind, k], axis=1)\n"
     ]
    },
    {
     "data": {
      "text/plain": [
       "(0.9049352750809061, 0.8352211434735707)"
      ]
     },
     "execution_count": 65,
     "metadata": {},
     "output_type": "execute_result"
    }
   ],
   "source": [
    "knn = KNeighborsClassifier(n_neighbors = 2)\n",
    "knn.fit(X_train, y_train)\n",
    "knn.score(X_train, y_train), knn.score(X_test, y_test) "
   ]
  },
  {
   "cell_type": "markdown",
   "id": "817ae34a",
   "metadata": {},
   "source": [
    "Точность на обучающей выборке: 0.9049352750809061\n",
    "Точность на тестовой выборке: 0.8352211434735707"
   ]
  },
  {
   "cell_type": "markdown",
   "id": "d3de9ef6",
   "metadata": {},
   "source": [
    "k=3"
   ]
  },
  {
   "cell_type": "code",
   "execution_count": 67,
   "id": "bc814333",
   "metadata": {},
   "outputs": [
    {
     "name": "stderr",
     "output_type": "stream",
     "text": [
      "C:\\anaconda\\lib\\site-packages\\sklearn\\neighbors\\_classification.py:228: FutureWarning: Unlike other reduction functions (e.g. `skew`, `kurtosis`), the default behavior of `mode` typically preserves the axis it acts along. In SciPy 1.11.0, this behavior will change: the default value of `keepdims` will become False, the `axis` over which the statistic is taken will be eliminated, and the value None will no longer be accepted. Set `keepdims` to True or False to avoid this warning.\n",
      "  mode, _ = stats.mode(_y[neigh_ind, k], axis=1)\n",
      "C:\\anaconda\\lib\\site-packages\\sklearn\\neighbors\\_classification.py:228: FutureWarning: Unlike other reduction functions (e.g. `skew`, `kurtosis`), the default behavior of `mode` typically preserves the axis it acts along. In SciPy 1.11.0, this behavior will change: the default value of `keepdims` will become False, the `axis` over which the statistic is taken will be eliminated, and the value None will no longer be accepted. Set `keepdims` to True or False to avoid this warning.\n",
      "  mode, _ = stats.mode(_y[neigh_ind, k], axis=1)\n"
     ]
    },
    {
     "data": {
      "text/plain": [
       "(0.9049352750809061, 0.8352211434735707)"
      ]
     },
     "execution_count": 67,
     "metadata": {},
     "output_type": "execute_result"
    }
   ],
   "source": [
    "knn = KNeighborsClassifier(n_neighbors = 3)\n",
    "knn.fit(X_train, y_train)\n",
    "knn.score(X_train, y_train), knn.score(X_test, y_test) "
   ]
  },
  {
   "cell_type": "markdown",
   "id": "360de539",
   "metadata": {},
   "source": [
    "Точность на обучающей выборке: 0.9049352750809061\n",
    "Точность на тестовой выборке: 0.8352211434735707"
   ]
  },
  {
   "cell_type": "markdown",
   "id": "a54bf3d0",
   "metadata": {},
   "source": [
    "k=5"
   ]
  },
  {
   "cell_type": "code",
   "execution_count": 68,
   "id": "7973cf3d",
   "metadata": {},
   "outputs": [
    {
     "name": "stderr",
     "output_type": "stream",
     "text": [
      "C:\\anaconda\\lib\\site-packages\\sklearn\\neighbors\\_classification.py:228: FutureWarning: Unlike other reduction functions (e.g. `skew`, `kurtosis`), the default behavior of `mode` typically preserves the axis it acts along. In SciPy 1.11.0, this behavior will change: the default value of `keepdims` will become False, the `axis` over which the statistic is taken will be eliminated, and the value None will no longer be accepted. Set `keepdims` to True or False to avoid this warning.\n",
      "  mode, _ = stats.mode(_y[neigh_ind, k], axis=1)\n",
      "C:\\anaconda\\lib\\site-packages\\sklearn\\neighbors\\_classification.py:228: FutureWarning: Unlike other reduction functions (e.g. `skew`, `kurtosis`), the default behavior of `mode` typically preserves the axis it acts along. In SciPy 1.11.0, this behavior will change: the default value of `keepdims` will become False, the `axis` over which the statistic is taken will be eliminated, and the value None will no longer be accepted. Set `keepdims` to True or False to avoid this warning.\n",
      "  mode, _ = stats.mode(_y[neigh_ind, k], axis=1)\n"
     ]
    },
    {
     "data": {
      "text/plain": [
       "(0.879536523347203, 0.8294902912621359)"
      ]
     },
     "execution_count": 68,
     "metadata": {},
     "output_type": "execute_result"
    }
   ],
   "source": [
    "knn = KNeighborsClassifier(n_neighbors = 5)\n",
    "knn.fit(X_train, y_train)\n",
    "knn.score(X_train, y_train), knn.score(X_test, y_test) "
   ]
  },
  {
   "cell_type": "raw",
   "id": "3952d491",
   "metadata": {},
   "source": [
    "Точность на обучающей выборке: 0.879536523347203\n",
    "Точность на тестовой выборке: 0.8294902912621359"
   ]
  },
  {
   "cell_type": "raw",
   "id": "7b0cef1b",
   "metadata": {},
   "source": [
    "k=10"
   ]
  },
  {
   "cell_type": "code",
   "execution_count": 69,
   "id": "4409e458",
   "metadata": {},
   "outputs": [
    {
     "name": "stderr",
     "output_type": "stream",
     "text": [
      "C:\\anaconda\\lib\\site-packages\\sklearn\\neighbors\\_classification.py:228: FutureWarning: Unlike other reduction functions (e.g. `skew`, `kurtosis`), the default behavior of `mode` typically preserves the axis it acts along. In SciPy 1.11.0, this behavior will change: the default value of `keepdims` will become False, the `axis` over which the statistic is taken will be eliminated, and the value None will no longer be accepted. Set `keepdims` to True or False to avoid this warning.\n",
      "  mode, _ = stats.mode(_y[neigh_ind, k], axis=1)\n",
      "C:\\anaconda\\lib\\site-packages\\sklearn\\neighbors\\_classification.py:228: FutureWarning: Unlike other reduction functions (e.g. `skew`, `kurtosis`), the default behavior of `mode` typically preserves the axis it acts along. In SciPy 1.11.0, this behavior will change: the default value of `keepdims` will become False, the `axis` over which the statistic is taken will be eliminated, and the value None will no longer be accepted. Set `keepdims` to True or False to avoid this warning.\n",
      "  mode, _ = stats.mode(_y[neigh_ind, k], axis=1)\n"
     ]
    },
    {
     "data": {
      "text/plain": [
       "(0.8504969949144706, 0.8187702265372169)"
      ]
     },
     "execution_count": 69,
     "metadata": {},
     "output_type": "execute_result"
    }
   ],
   "source": [
    "knn = KNeighborsClassifier(n_neighbors = 10)\n",
    "knn.fit(X_train, y_train)\n",
    "knn.score(X_train, y_train), knn.score(X_test, y_test) "
   ]
  },
  {
   "cell_type": "markdown",
   "id": "71978181",
   "metadata": {},
   "source": [
    "Точность на обучающей выборке: 0.8504969949144706\n",
    "Точность на тестовой выборке: 0.8187702265372169"
   ]
  },
  {
   "cell_type": "markdown",
   "id": "05d158de",
   "metadata": {},
   "source": [
    "k=15"
   ]
  },
  {
   "cell_type": "code",
   "execution_count": 71,
   "id": "ca5f37ea",
   "metadata": {},
   "outputs": [
    {
     "name": "stderr",
     "output_type": "stream",
     "text": [
      "C:\\anaconda\\lib\\site-packages\\sklearn\\neighbors\\_classification.py:228: FutureWarning: Unlike other reduction functions (e.g. `skew`, `kurtosis`), the default behavior of `mode` typically preserves the axis it acts along. In SciPy 1.11.0, this behavior will change: the default value of `keepdims` will become False, the `axis` over which the statistic is taken will be eliminated, and the value None will no longer be accepted. Set `keepdims` to True or False to avoid this warning.\n",
      "  mode, _ = stats.mode(_y[neigh_ind, k], axis=1)\n",
      "C:\\anaconda\\lib\\site-packages\\sklearn\\neighbors\\_classification.py:228: FutureWarning: Unlike other reduction functions (e.g. `skew`, `kurtosis`), the default behavior of `mode` typically preserves the axis it acts along. In SciPy 1.11.0, this behavior will change: the default value of `keepdims` will become False, the `axis` over which the statistic is taken will be eliminated, and the value None will no longer be accepted. Set `keepdims` to True or False to avoid this warning.\n",
      "  mode, _ = stats.mode(_y[neigh_ind, k], axis=1)\n"
     ]
    },
    {
     "data": {
      "text/plain": [
       "(0.8360494683310218, 0.8135787486515642)"
      ]
     },
     "execution_count": 71,
     "metadata": {},
     "output_type": "execute_result"
    }
   ],
   "source": [
    "knn = KNeighborsClassifier(n_neighbors = 15)\n",
    "knn.fit(X_train, y_train)\n",
    "knn.score(X_train, y_train), knn.score(X_test, y_test) "
   ]
  },
  {
   "cell_type": "markdown",
   "id": "4bc3b4bf",
   "metadata": {},
   "source": [
    "Точность на обучающей выборке: 0.8360494683310218\n",
    "Точность на тестовой выборке: 0.8135787486515642"
   ]
  },
  {
   "cell_type": "markdown",
   "id": "49af3486",
   "metadata": {},
   "source": [
    "Лучший результат KNN показал при k=3\n",
    "При k=1,2 точность на обучающей и тестовой выборке сильно отличаются. Наблюдаем большое количество переобучений\n",
    "При k=3 сохроняется высокая точность, при этом на обучающей и тестовой выборке отличный результат в плане отличия точности.\n",
    "При k>3 идет спад точности"
   ]
  },
  {
   "cell_type": "markdown",
   "id": "6a3e030d",
   "metadata": {},
   "source": [
    "Запустим KNN для различных k от 1 до 30, и проверим, правда ли k=3 лучший результат"
   ]
  },
  {
   "cell_type": "code",
   "execution_count": 72,
   "id": "063c7b84",
   "metadata": {},
   "outputs": [
    {
     "name": "stderr",
     "output_type": "stream",
     "text": [
      "C:\\anaconda\\lib\\site-packages\\sklearn\\neighbors\\_classification.py:228: FutureWarning: Unlike other reduction functions (e.g. `skew`, `kurtosis`), the default behavior of `mode` typically preserves the axis it acts along. In SciPy 1.11.0, this behavior will change: the default value of `keepdims` will become False, the `axis` over which the statistic is taken will be eliminated, and the value None will no longer be accepted. Set `keepdims` to True or False to avoid this warning.\n",
      "  mode, _ = stats.mode(_y[neigh_ind, k], axis=1)\n",
      "C:\\anaconda\\lib\\site-packages\\sklearn\\neighbors\\_classification.py:228: FutureWarning: Unlike other reduction functions (e.g. `skew`, `kurtosis`), the default behavior of `mode` typically preserves the axis it acts along. In SciPy 1.11.0, this behavior will change: the default value of `keepdims` will become False, the `axis` over which the statistic is taken will be eliminated, and the value None will no longer be accepted. Set `keepdims` to True or False to avoid this warning.\n",
      "  mode, _ = stats.mode(_y[neigh_ind, k], axis=1)\n",
      "C:\\anaconda\\lib\\site-packages\\sklearn\\neighbors\\_classification.py:228: FutureWarning: Unlike other reduction functions (e.g. `skew`, `kurtosis`), the default behavior of `mode` typically preserves the axis it acts along. In SciPy 1.11.0, this behavior will change: the default value of `keepdims` will become False, the `axis` over which the statistic is taken will be eliminated, and the value None will no longer be accepted. Set `keepdims` to True or False to avoid this warning.\n",
      "  mode, _ = stats.mode(_y[neigh_ind, k], axis=1)\n",
      "C:\\anaconda\\lib\\site-packages\\sklearn\\neighbors\\_classification.py:228: FutureWarning: Unlike other reduction functions (e.g. `skew`, `kurtosis`), the default behavior of `mode` typically preserves the axis it acts along. In SciPy 1.11.0, this behavior will change: the default value of `keepdims` will become False, the `axis` over which the statistic is taken will be eliminated, and the value None will no longer be accepted. Set `keepdims` to True or False to avoid this warning.\n",
      "  mode, _ = stats.mode(_y[neigh_ind, k], axis=1)\n",
      "C:\\anaconda\\lib\\site-packages\\sklearn\\neighbors\\_classification.py:228: FutureWarning: Unlike other reduction functions (e.g. `skew`, `kurtosis`), the default behavior of `mode` typically preserves the axis it acts along. In SciPy 1.11.0, this behavior will change: the default value of `keepdims` will become False, the `axis` over which the statistic is taken will be eliminated, and the value None will no longer be accepted. Set `keepdims` to True or False to avoid this warning.\n",
      "  mode, _ = stats.mode(_y[neigh_ind, k], axis=1)\n",
      "C:\\anaconda\\lib\\site-packages\\sklearn\\neighbors\\_classification.py:228: FutureWarning: Unlike other reduction functions (e.g. `skew`, `kurtosis`), the default behavior of `mode` typically preserves the axis it acts along. In SciPy 1.11.0, this behavior will change: the default value of `keepdims` will become False, the `axis` over which the statistic is taken will be eliminated, and the value None will no longer be accepted. Set `keepdims` to True or False to avoid this warning.\n",
      "  mode, _ = stats.mode(_y[neigh_ind, k], axis=1)\n",
      "C:\\anaconda\\lib\\site-packages\\sklearn\\neighbors\\_classification.py:228: FutureWarning: Unlike other reduction functions (e.g. `skew`, `kurtosis`), the default behavior of `mode` typically preserves the axis it acts along. In SciPy 1.11.0, this behavior will change: the default value of `keepdims` will become False, the `axis` over which the statistic is taken will be eliminated, and the value None will no longer be accepted. Set `keepdims` to True or False to avoid this warning.\n",
      "  mode, _ = stats.mode(_y[neigh_ind, k], axis=1)\n",
      "C:\\anaconda\\lib\\site-packages\\sklearn\\neighbors\\_classification.py:228: FutureWarning: Unlike other reduction functions (e.g. `skew`, `kurtosis`), the default behavior of `mode` typically preserves the axis it acts along. In SciPy 1.11.0, this behavior will change: the default value of `keepdims` will become False, the `axis` over which the statistic is taken will be eliminated, and the value None will no longer be accepted. Set `keepdims` to True or False to avoid this warning.\n",
      "  mode, _ = stats.mode(_y[neigh_ind, k], axis=1)\n",
      "C:\\anaconda\\lib\\site-packages\\sklearn\\neighbors\\_classification.py:228: FutureWarning: Unlike other reduction functions (e.g. `skew`, `kurtosis`), the default behavior of `mode` typically preserves the axis it acts along. In SciPy 1.11.0, this behavior will change: the default value of `keepdims` will become False, the `axis` over which the statistic is taken will be eliminated, and the value None will no longer be accepted. Set `keepdims` to True or False to avoid this warning.\n",
      "  mode, _ = stats.mode(_y[neigh_ind, k], axis=1)\n",
      "C:\\anaconda\\lib\\site-packages\\sklearn\\neighbors\\_classification.py:228: FutureWarning: Unlike other reduction functions (e.g. `skew`, `kurtosis`), the default behavior of `mode` typically preserves the axis it acts along. In SciPy 1.11.0, this behavior will change: the default value of `keepdims` will become False, the `axis` over which the statistic is taken will be eliminated, and the value None will no longer be accepted. Set `keepdims` to True or False to avoid this warning.\n",
      "  mode, _ = stats.mode(_y[neigh_ind, k], axis=1)\n",
      "C:\\anaconda\\lib\\site-packages\\sklearn\\neighbors\\_classification.py:228: FutureWarning: Unlike other reduction functions (e.g. `skew`, `kurtosis`), the default behavior of `mode` typically preserves the axis it acts along. In SciPy 1.11.0, this behavior will change: the default value of `keepdims` will become False, the `axis` over which the statistic is taken will be eliminated, and the value None will no longer be accepted. Set `keepdims` to True or False to avoid this warning.\n",
      "  mode, _ = stats.mode(_y[neigh_ind, k], axis=1)\n",
      "C:\\anaconda\\lib\\site-packages\\sklearn\\neighbors\\_classification.py:228: FutureWarning: Unlike other reduction functions (e.g. `skew`, `kurtosis`), the default behavior of `mode` typically preserves the axis it acts along. In SciPy 1.11.0, this behavior will change: the default value of `keepdims` will become False, the `axis` over which the statistic is taken will be eliminated, and the value None will no longer be accepted. Set `keepdims` to True or False to avoid this warning.\n",
      "  mode, _ = stats.mode(_y[neigh_ind, k], axis=1)\n",
      "C:\\anaconda\\lib\\site-packages\\sklearn\\neighbors\\_classification.py:228: FutureWarning: Unlike other reduction functions (e.g. `skew`, `kurtosis`), the default behavior of `mode` typically preserves the axis it acts along. In SciPy 1.11.0, this behavior will change: the default value of `keepdims` will become False, the `axis` over which the statistic is taken will be eliminated, and the value None will no longer be accepted. Set `keepdims` to True or False to avoid this warning.\n",
      "  mode, _ = stats.mode(_y[neigh_ind, k], axis=1)\n",
      "C:\\anaconda\\lib\\site-packages\\sklearn\\neighbors\\_classification.py:228: FutureWarning: Unlike other reduction functions (e.g. `skew`, `kurtosis`), the default behavior of `mode` typically preserves the axis it acts along. In SciPy 1.11.0, this behavior will change: the default value of `keepdims` will become False, the `axis` over which the statistic is taken will be eliminated, and the value None will no longer be accepted. Set `keepdims` to True or False to avoid this warning.\n",
      "  mode, _ = stats.mode(_y[neigh_ind, k], axis=1)\n",
      "C:\\anaconda\\lib\\site-packages\\sklearn\\neighbors\\_classification.py:228: FutureWarning: Unlike other reduction functions (e.g. `skew`, `kurtosis`), the default behavior of `mode` typically preserves the axis it acts along. In SciPy 1.11.0, this behavior will change: the default value of `keepdims` will become False, the `axis` over which the statistic is taken will be eliminated, and the value None will no longer be accepted. Set `keepdims` to True or False to avoid this warning.\n",
      "  mode, _ = stats.mode(_y[neigh_ind, k], axis=1)\n",
      "C:\\anaconda\\lib\\site-packages\\sklearn\\neighbors\\_classification.py:228: FutureWarning: Unlike other reduction functions (e.g. `skew`, `kurtosis`), the default behavior of `mode` typically preserves the axis it acts along. In SciPy 1.11.0, this behavior will change: the default value of `keepdims` will become False, the `axis` over which the statistic is taken will be eliminated, and the value None will no longer be accepted. Set `keepdims` to True or False to avoid this warning.\n",
      "  mode, _ = stats.mode(_y[neigh_ind, k], axis=1)\n"
     ]
    },
    {
     "name": "stderr",
     "output_type": "stream",
     "text": [
      "C:\\anaconda\\lib\\site-packages\\sklearn\\neighbors\\_classification.py:228: FutureWarning: Unlike other reduction functions (e.g. `skew`, `kurtosis`), the default behavior of `mode` typically preserves the axis it acts along. In SciPy 1.11.0, this behavior will change: the default value of `keepdims` will become False, the `axis` over which the statistic is taken will be eliminated, and the value None will no longer be accepted. Set `keepdims` to True or False to avoid this warning.\n",
      "  mode, _ = stats.mode(_y[neigh_ind, k], axis=1)\n",
      "C:\\anaconda\\lib\\site-packages\\sklearn\\neighbors\\_classification.py:228: FutureWarning: Unlike other reduction functions (e.g. `skew`, `kurtosis`), the default behavior of `mode` typically preserves the axis it acts along. In SciPy 1.11.0, this behavior will change: the default value of `keepdims` will become False, the `axis` over which the statistic is taken will be eliminated, and the value None will no longer be accepted. Set `keepdims` to True or False to avoid this warning.\n",
      "  mode, _ = stats.mode(_y[neigh_ind, k], axis=1)\n",
      "C:\\anaconda\\lib\\site-packages\\sklearn\\neighbors\\_classification.py:228: FutureWarning: Unlike other reduction functions (e.g. `skew`, `kurtosis`), the default behavior of `mode` typically preserves the axis it acts along. In SciPy 1.11.0, this behavior will change: the default value of `keepdims` will become False, the `axis` over which the statistic is taken will be eliminated, and the value None will no longer be accepted. Set `keepdims` to True or False to avoid this warning.\n",
      "  mode, _ = stats.mode(_y[neigh_ind, k], axis=1)\n",
      "C:\\anaconda\\lib\\site-packages\\sklearn\\neighbors\\_classification.py:228: FutureWarning: Unlike other reduction functions (e.g. `skew`, `kurtosis`), the default behavior of `mode` typically preserves the axis it acts along. In SciPy 1.11.0, this behavior will change: the default value of `keepdims` will become False, the `axis` over which the statistic is taken will be eliminated, and the value None will no longer be accepted. Set `keepdims` to True or False to avoid this warning.\n",
      "  mode, _ = stats.mode(_y[neigh_ind, k], axis=1)\n",
      "C:\\anaconda\\lib\\site-packages\\sklearn\\neighbors\\_classification.py:228: FutureWarning: Unlike other reduction functions (e.g. `skew`, `kurtosis`), the default behavior of `mode` typically preserves the axis it acts along. In SciPy 1.11.0, this behavior will change: the default value of `keepdims` will become False, the `axis` over which the statistic is taken will be eliminated, and the value None will no longer be accepted. Set `keepdims` to True or False to avoid this warning.\n",
      "  mode, _ = stats.mode(_y[neigh_ind, k], axis=1)\n",
      "C:\\anaconda\\lib\\site-packages\\sklearn\\neighbors\\_classification.py:228: FutureWarning: Unlike other reduction functions (e.g. `skew`, `kurtosis`), the default behavior of `mode` typically preserves the axis it acts along. In SciPy 1.11.0, this behavior will change: the default value of `keepdims` will become False, the `axis` over which the statistic is taken will be eliminated, and the value None will no longer be accepted. Set `keepdims` to True or False to avoid this warning.\n",
      "  mode, _ = stats.mode(_y[neigh_ind, k], axis=1)\n",
      "C:\\anaconda\\lib\\site-packages\\sklearn\\neighbors\\_classification.py:228: FutureWarning: Unlike other reduction functions (e.g. `skew`, `kurtosis`), the default behavior of `mode` typically preserves the axis it acts along. In SciPy 1.11.0, this behavior will change: the default value of `keepdims` will become False, the `axis` over which the statistic is taken will be eliminated, and the value None will no longer be accepted. Set `keepdims` to True or False to avoid this warning.\n",
      "  mode, _ = stats.mode(_y[neigh_ind, k], axis=1)\n",
      "C:\\anaconda\\lib\\site-packages\\sklearn\\neighbors\\_classification.py:228: FutureWarning: Unlike other reduction functions (e.g. `skew`, `kurtosis`), the default behavior of `mode` typically preserves the axis it acts along. In SciPy 1.11.0, this behavior will change: the default value of `keepdims` will become False, the `axis` over which the statistic is taken will be eliminated, and the value None will no longer be accepted. Set `keepdims` to True or False to avoid this warning.\n",
      "  mode, _ = stats.mode(_y[neigh_ind, k], axis=1)\n",
      "C:\\anaconda\\lib\\site-packages\\sklearn\\neighbors\\_classification.py:228: FutureWarning: Unlike other reduction functions (e.g. `skew`, `kurtosis`), the default behavior of `mode` typically preserves the axis it acts along. In SciPy 1.11.0, this behavior will change: the default value of `keepdims` will become False, the `axis` over which the statistic is taken will be eliminated, and the value None will no longer be accepted. Set `keepdims` to True or False to avoid this warning.\n",
      "  mode, _ = stats.mode(_y[neigh_ind, k], axis=1)\n",
      "C:\\anaconda\\lib\\site-packages\\sklearn\\neighbors\\_classification.py:228: FutureWarning: Unlike other reduction functions (e.g. `skew`, `kurtosis`), the default behavior of `mode` typically preserves the axis it acts along. In SciPy 1.11.0, this behavior will change: the default value of `keepdims` will become False, the `axis` over which the statistic is taken will be eliminated, and the value None will no longer be accepted. Set `keepdims` to True or False to avoid this warning.\n",
      "  mode, _ = stats.mode(_y[neigh_ind, k], axis=1)\n",
      "C:\\anaconda\\lib\\site-packages\\sklearn\\neighbors\\_classification.py:228: FutureWarning: Unlike other reduction functions (e.g. `skew`, `kurtosis`), the default behavior of `mode` typically preserves the axis it acts along. In SciPy 1.11.0, this behavior will change: the default value of `keepdims` will become False, the `axis` over which the statistic is taken will be eliminated, and the value None will no longer be accepted. Set `keepdims` to True or False to avoid this warning.\n",
      "  mode, _ = stats.mode(_y[neigh_ind, k], axis=1)\n",
      "C:\\anaconda\\lib\\site-packages\\sklearn\\neighbors\\_classification.py:228: FutureWarning: Unlike other reduction functions (e.g. `skew`, `kurtosis`), the default behavior of `mode` typically preserves the axis it acts along. In SciPy 1.11.0, this behavior will change: the default value of `keepdims` will become False, the `axis` over which the statistic is taken will be eliminated, and the value None will no longer be accepted. Set `keepdims` to True or False to avoid this warning.\n",
      "  mode, _ = stats.mode(_y[neigh_ind, k], axis=1)\n",
      "C:\\anaconda\\lib\\site-packages\\sklearn\\neighbors\\_classification.py:228: FutureWarning: Unlike other reduction functions (e.g. `skew`, `kurtosis`), the default behavior of `mode` typically preserves the axis it acts along. In SciPy 1.11.0, this behavior will change: the default value of `keepdims` will become False, the `axis` over which the statistic is taken will be eliminated, and the value None will no longer be accepted. Set `keepdims` to True or False to avoid this warning.\n",
      "  mode, _ = stats.mode(_y[neigh_ind, k], axis=1)\n",
      "C:\\anaconda\\lib\\site-packages\\sklearn\\neighbors\\_classification.py:228: FutureWarning: Unlike other reduction functions (e.g. `skew`, `kurtosis`), the default behavior of `mode` typically preserves the axis it acts along. In SciPy 1.11.0, this behavior will change: the default value of `keepdims` will become False, the `axis` over which the statistic is taken will be eliminated, and the value None will no longer be accepted. Set `keepdims` to True or False to avoid this warning.\n",
      "  mode, _ = stats.mode(_y[neigh_ind, k], axis=1)\n",
      "C:\\anaconda\\lib\\site-packages\\sklearn\\neighbors\\_classification.py:228: FutureWarning: Unlike other reduction functions (e.g. `skew`, `kurtosis`), the default behavior of `mode` typically preserves the axis it acts along. In SciPy 1.11.0, this behavior will change: the default value of `keepdims` will become False, the `axis` over which the statistic is taken will be eliminated, and the value None will no longer be accepted. Set `keepdims` to True or False to avoid this warning.\n",
      "  mode, _ = stats.mode(_y[neigh_ind, k], axis=1)\n",
      "C:\\anaconda\\lib\\site-packages\\sklearn\\neighbors\\_classification.py:228: FutureWarning: Unlike other reduction functions (e.g. `skew`, `kurtosis`), the default behavior of `mode` typically preserves the axis it acts along. In SciPy 1.11.0, this behavior will change: the default value of `keepdims` will become False, the `axis` over which the statistic is taken will be eliminated, and the value None will no longer be accepted. Set `keepdims` to True or False to avoid this warning.\n",
      "  mode, _ = stats.mode(_y[neigh_ind, k], axis=1)\n"
     ]
    },
    {
     "name": "stderr",
     "output_type": "stream",
     "text": [
      "C:\\anaconda\\lib\\site-packages\\sklearn\\neighbors\\_classification.py:228: FutureWarning: Unlike other reduction functions (e.g. `skew`, `kurtosis`), the default behavior of `mode` typically preserves the axis it acts along. In SciPy 1.11.0, this behavior will change: the default value of `keepdims` will become False, the `axis` over which the statistic is taken will be eliminated, and the value None will no longer be accepted. Set `keepdims` to True or False to avoid this warning.\n",
      "  mode, _ = stats.mode(_y[neigh_ind, k], axis=1)\n",
      "C:\\anaconda\\lib\\site-packages\\sklearn\\neighbors\\_classification.py:228: FutureWarning: Unlike other reduction functions (e.g. `skew`, `kurtosis`), the default behavior of `mode` typically preserves the axis it acts along. In SciPy 1.11.0, this behavior will change: the default value of `keepdims` will become False, the `axis` over which the statistic is taken will be eliminated, and the value None will no longer be accepted. Set `keepdims` to True or False to avoid this warning.\n",
      "  mode, _ = stats.mode(_y[neigh_ind, k], axis=1)\n",
      "C:\\anaconda\\lib\\site-packages\\sklearn\\neighbors\\_classification.py:228: FutureWarning: Unlike other reduction functions (e.g. `skew`, `kurtosis`), the default behavior of `mode` typically preserves the axis it acts along. In SciPy 1.11.0, this behavior will change: the default value of `keepdims` will become False, the `axis` over which the statistic is taken will be eliminated, and the value None will no longer be accepted. Set `keepdims` to True or False to avoid this warning.\n",
      "  mode, _ = stats.mode(_y[neigh_ind, k], axis=1)\n",
      "C:\\anaconda\\lib\\site-packages\\sklearn\\neighbors\\_classification.py:228: FutureWarning: Unlike other reduction functions (e.g. `skew`, `kurtosis`), the default behavior of `mode` typically preserves the axis it acts along. In SciPy 1.11.0, this behavior will change: the default value of `keepdims` will become False, the `axis` over which the statistic is taken will be eliminated, and the value None will no longer be accepted. Set `keepdims` to True or False to avoid this warning.\n",
      "  mode, _ = stats.mode(_y[neigh_ind, k], axis=1)\n",
      "C:\\anaconda\\lib\\site-packages\\sklearn\\neighbors\\_classification.py:228: FutureWarning: Unlike other reduction functions (e.g. `skew`, `kurtosis`), the default behavior of `mode` typically preserves the axis it acts along. In SciPy 1.11.0, this behavior will change: the default value of `keepdims` will become False, the `axis` over which the statistic is taken will be eliminated, and the value None will no longer be accepted. Set `keepdims` to True or False to avoid this warning.\n",
      "  mode, _ = stats.mode(_y[neigh_ind, k], axis=1)\n",
      "C:\\anaconda\\lib\\site-packages\\sklearn\\neighbors\\_classification.py:228: FutureWarning: Unlike other reduction functions (e.g. `skew`, `kurtosis`), the default behavior of `mode` typically preserves the axis it acts along. In SciPy 1.11.0, this behavior will change: the default value of `keepdims` will become False, the `axis` over which the statistic is taken will be eliminated, and the value None will no longer be accepted. Set `keepdims` to True or False to avoid this warning.\n",
      "  mode, _ = stats.mode(_y[neigh_ind, k], axis=1)\n",
      "C:\\anaconda\\lib\\site-packages\\sklearn\\neighbors\\_classification.py:228: FutureWarning: Unlike other reduction functions (e.g. `skew`, `kurtosis`), the default behavior of `mode` typically preserves the axis it acts along. In SciPy 1.11.0, this behavior will change: the default value of `keepdims` will become False, the `axis` over which the statistic is taken will be eliminated, and the value None will no longer be accepted. Set `keepdims` to True or False to avoid this warning.\n",
      "  mode, _ = stats.mode(_y[neigh_ind, k], axis=1)\n",
      "C:\\anaconda\\lib\\site-packages\\sklearn\\neighbors\\_classification.py:228: FutureWarning: Unlike other reduction functions (e.g. `skew`, `kurtosis`), the default behavior of `mode` typically preserves the axis it acts along. In SciPy 1.11.0, this behavior will change: the default value of `keepdims` will become False, the `axis` over which the statistic is taken will be eliminated, and the value None will no longer be accepted. Set `keepdims` to True or False to avoid this warning.\n",
      "  mode, _ = stats.mode(_y[neigh_ind, k], axis=1)\n",
      "C:\\anaconda\\lib\\site-packages\\sklearn\\neighbors\\_classification.py:228: FutureWarning: Unlike other reduction functions (e.g. `skew`, `kurtosis`), the default behavior of `mode` typically preserves the axis it acts along. In SciPy 1.11.0, this behavior will change: the default value of `keepdims` will become False, the `axis` over which the statistic is taken will be eliminated, and the value None will no longer be accepted. Set `keepdims` to True or False to avoid this warning.\n",
      "  mode, _ = stats.mode(_y[neigh_ind, k], axis=1)\n",
      "C:\\anaconda\\lib\\site-packages\\sklearn\\neighbors\\_classification.py:228: FutureWarning: Unlike other reduction functions (e.g. `skew`, `kurtosis`), the default behavior of `mode` typically preserves the axis it acts along. In SciPy 1.11.0, this behavior will change: the default value of `keepdims` will become False, the `axis` over which the statistic is taken will be eliminated, and the value None will no longer be accepted. Set `keepdims` to True or False to avoid this warning.\n",
      "  mode, _ = stats.mode(_y[neigh_ind, k], axis=1)\n",
      "C:\\anaconda\\lib\\site-packages\\sklearn\\neighbors\\_classification.py:228: FutureWarning: Unlike other reduction functions (e.g. `skew`, `kurtosis`), the default behavior of `mode` typically preserves the axis it acts along. In SciPy 1.11.0, this behavior will change: the default value of `keepdims` will become False, the `axis` over which the statistic is taken will be eliminated, and the value None will no longer be accepted. Set `keepdims` to True or False to avoid this warning.\n",
      "  mode, _ = stats.mode(_y[neigh_ind, k], axis=1)\n",
      "C:\\anaconda\\lib\\site-packages\\sklearn\\neighbors\\_classification.py:228: FutureWarning: Unlike other reduction functions (e.g. `skew`, `kurtosis`), the default behavior of `mode` typically preserves the axis it acts along. In SciPy 1.11.0, this behavior will change: the default value of `keepdims` will become False, the `axis` over which the statistic is taken will be eliminated, and the value None will no longer be accepted. Set `keepdims` to True or False to avoid this warning.\n",
      "  mode, _ = stats.mode(_y[neigh_ind, k], axis=1)\n",
      "C:\\anaconda\\lib\\site-packages\\sklearn\\neighbors\\_classification.py:228: FutureWarning: Unlike other reduction functions (e.g. `skew`, `kurtosis`), the default behavior of `mode` typically preserves the axis it acts along. In SciPy 1.11.0, this behavior will change: the default value of `keepdims` will become False, the `axis` over which the statistic is taken will be eliminated, and the value None will no longer be accepted. Set `keepdims` to True or False to avoid this warning.\n",
      "  mode, _ = stats.mode(_y[neigh_ind, k], axis=1)\n",
      "C:\\anaconda\\lib\\site-packages\\sklearn\\neighbors\\_classification.py:228: FutureWarning: Unlike other reduction functions (e.g. `skew`, `kurtosis`), the default behavior of `mode` typically preserves the axis it acts along. In SciPy 1.11.0, this behavior will change: the default value of `keepdims` will become False, the `axis` over which the statistic is taken will be eliminated, and the value None will no longer be accepted. Set `keepdims` to True or False to avoid this warning.\n",
      "  mode, _ = stats.mode(_y[neigh_ind, k], axis=1)\n",
      "C:\\anaconda\\lib\\site-packages\\sklearn\\neighbors\\_classification.py:228: FutureWarning: Unlike other reduction functions (e.g. `skew`, `kurtosis`), the default behavior of `mode` typically preserves the axis it acts along. In SciPy 1.11.0, this behavior will change: the default value of `keepdims` will become False, the `axis` over which the statistic is taken will be eliminated, and the value None will no longer be accepted. Set `keepdims` to True or False to avoid this warning.\n",
      "  mode, _ = stats.mode(_y[neigh_ind, k], axis=1)\n",
      "C:\\anaconda\\lib\\site-packages\\sklearn\\neighbors\\_classification.py:228: FutureWarning: Unlike other reduction functions (e.g. `skew`, `kurtosis`), the default behavior of `mode` typically preserves the axis it acts along. In SciPy 1.11.0, this behavior will change: the default value of `keepdims` will become False, the `axis` over which the statistic is taken will be eliminated, and the value None will no longer be accepted. Set `keepdims` to True or False to avoid this warning.\n",
      "  mode, _ = stats.mode(_y[neigh_ind, k], axis=1)\n"
     ]
    },
    {
     "name": "stderr",
     "output_type": "stream",
     "text": [
      "C:\\anaconda\\lib\\site-packages\\sklearn\\neighbors\\_classification.py:228: FutureWarning: Unlike other reduction functions (e.g. `skew`, `kurtosis`), the default behavior of `mode` typically preserves the axis it acts along. In SciPy 1.11.0, this behavior will change: the default value of `keepdims` will become False, the `axis` over which the statistic is taken will be eliminated, and the value None will no longer be accepted. Set `keepdims` to True or False to avoid this warning.\n",
      "  mode, _ = stats.mode(_y[neigh_ind, k], axis=1)\n",
      "C:\\anaconda\\lib\\site-packages\\sklearn\\neighbors\\_classification.py:228: FutureWarning: Unlike other reduction functions (e.g. `skew`, `kurtosis`), the default behavior of `mode` typically preserves the axis it acts along. In SciPy 1.11.0, this behavior will change: the default value of `keepdims` will become False, the `axis` over which the statistic is taken will be eliminated, and the value None will no longer be accepted. Set `keepdims` to True or False to avoid this warning.\n",
      "  mode, _ = stats.mode(_y[neigh_ind, k], axis=1)\n",
      "C:\\anaconda\\lib\\site-packages\\sklearn\\neighbors\\_classification.py:228: FutureWarning: Unlike other reduction functions (e.g. `skew`, `kurtosis`), the default behavior of `mode` typically preserves the axis it acts along. In SciPy 1.11.0, this behavior will change: the default value of `keepdims` will become False, the `axis` over which the statistic is taken will be eliminated, and the value None will no longer be accepted. Set `keepdims` to True or False to avoid this warning.\n",
      "  mode, _ = stats.mode(_y[neigh_ind, k], axis=1)\n",
      "C:\\anaconda\\lib\\site-packages\\sklearn\\neighbors\\_classification.py:228: FutureWarning: Unlike other reduction functions (e.g. `skew`, `kurtosis`), the default behavior of `mode` typically preserves the axis it acts along. In SciPy 1.11.0, this behavior will change: the default value of `keepdims` will become False, the `axis` over which the statistic is taken will be eliminated, and the value None will no longer be accepted. Set `keepdims` to True or False to avoid this warning.\n",
      "  mode, _ = stats.mode(_y[neigh_ind, k], axis=1)\n",
      "C:\\anaconda\\lib\\site-packages\\sklearn\\neighbors\\_classification.py:228: FutureWarning: Unlike other reduction functions (e.g. `skew`, `kurtosis`), the default behavior of `mode` typically preserves the axis it acts along. In SciPy 1.11.0, this behavior will change: the default value of `keepdims` will become False, the `axis` over which the statistic is taken will be eliminated, and the value None will no longer be accepted. Set `keepdims` to True or False to avoid this warning.\n",
      "  mode, _ = stats.mode(_y[neigh_ind, k], axis=1)\n",
      "C:\\anaconda\\lib\\site-packages\\sklearn\\neighbors\\_classification.py:228: FutureWarning: Unlike other reduction functions (e.g. `skew`, `kurtosis`), the default behavior of `mode` typically preserves the axis it acts along. In SciPy 1.11.0, this behavior will change: the default value of `keepdims` will become False, the `axis` over which the statistic is taken will be eliminated, and the value None will no longer be accepted. Set `keepdims` to True or False to avoid this warning.\n",
      "  mode, _ = stats.mode(_y[neigh_ind, k], axis=1)\n",
      "C:\\anaconda\\lib\\site-packages\\sklearn\\neighbors\\_classification.py:228: FutureWarning: Unlike other reduction functions (e.g. `skew`, `kurtosis`), the default behavior of `mode` typically preserves the axis it acts along. In SciPy 1.11.0, this behavior will change: the default value of `keepdims` will become False, the `axis` over which the statistic is taken will be eliminated, and the value None will no longer be accepted. Set `keepdims` to True or False to avoid this warning.\n",
      "  mode, _ = stats.mode(_y[neigh_ind, k], axis=1)\n",
      "C:\\anaconda\\lib\\site-packages\\sklearn\\neighbors\\_classification.py:228: FutureWarning: Unlike other reduction functions (e.g. `skew`, `kurtosis`), the default behavior of `mode` typically preserves the axis it acts along. In SciPy 1.11.0, this behavior will change: the default value of `keepdims` will become False, the `axis` over which the statistic is taken will be eliminated, and the value None will no longer be accepted. Set `keepdims` to True or False to avoid this warning.\n",
      "  mode, _ = stats.mode(_y[neigh_ind, k], axis=1)\n",
      "C:\\anaconda\\lib\\site-packages\\sklearn\\neighbors\\_classification.py:228: FutureWarning: Unlike other reduction functions (e.g. `skew`, `kurtosis`), the default behavior of `mode` typically preserves the axis it acts along. In SciPy 1.11.0, this behavior will change: the default value of `keepdims` will become False, the `axis` over which the statistic is taken will be eliminated, and the value None will no longer be accepted. Set `keepdims` to True or False to avoid this warning.\n",
      "  mode, _ = stats.mode(_y[neigh_ind, k], axis=1)\n",
      "C:\\anaconda\\lib\\site-packages\\sklearn\\neighbors\\_classification.py:228: FutureWarning: Unlike other reduction functions (e.g. `skew`, `kurtosis`), the default behavior of `mode` typically preserves the axis it acts along. In SciPy 1.11.0, this behavior will change: the default value of `keepdims` will become False, the `axis` over which the statistic is taken will be eliminated, and the value None will no longer be accepted. Set `keepdims` to True or False to avoid this warning.\n",
      "  mode, _ = stats.mode(_y[neigh_ind, k], axis=1)\n"
     ]
    },
    {
     "data": {
      "text/plain": [
       "[[1, 0.9738788719371244, 0.8362324703344121],\n",
       " [2, 0.9218966712898752, 0.8073759439050702],\n",
       " [3, 0.9049352750809061, 0.8352211434735707],\n",
       " [4, 0.8886384650947757, 0.8236245954692557],\n",
       " [5, 0.879536523347203, 0.8294902912621359],\n",
       " [6, 0.872168284789644, 0.8267934196332255],\n",
       " [7, 0.8619394359685622, 0.8222087378640777],\n",
       " [8, 0.859454461396209, 0.8209277238403452],\n",
       " [9, 0.8525196486361535, 0.8201186623516721],\n",
       " [10, 0.8504969949144706, 0.8187702265372169],\n",
       " [11, 0.8437066574202496, 0.8156014023732471],\n",
       " [12, 0.8439956079519186, 0.8188376483279396],\n",
       " [13, 0.8394879796578826, 0.8168149946062567],\n",
       " [14, 0.8400947757743874, 0.8177588996763754],\n",
       " [15, 0.8360494683310218, 0.8135787486515642],\n",
       " [16, 0.8372630605640314, 0.8161407766990292],\n",
       " [17, 0.8343735552473417, 0.8135787486515642],\n",
       " [18, 0.8344313453536755, 0.8149946062567421],\n",
       " [19, 0.8313684697179843, 0.813915857605178],\n",
       " [20, 0.8315996301433195, 0.816747572815534],\n",
       " [21, 0.8287968099861304, 0.8152642934196332],\n",
       " [22, 0.829461396208969, 0.8172869471413161],\n",
       " [23, 0.8256761442441054, 0.8148597626752967],\n",
       " [24, 0.8260517799352751, 0.8135113268608414],\n",
       " [25, 0.8242313915857605, 0.812230312837109],\n",
       " [26, 0.8250404530744336, 0.8122977346278317],\n",
       " [27, 0.8223821081830791, 0.8104099244875944],\n",
       " [28, 0.823220064724919, 0.810814455231931],\n",
       " [29, 0.8217175219602404, 0.809937971952535]]"
      ]
     },
     "execution_count": 72,
     "metadata": {},
     "output_type": "execute_result"
    }
   ],
   "source": [
    "scores = []\n",
    "\n",
    "for i in range(1, 30, 1):\n",
    "     knn = KNeighborsClassifier(n_neighbors=i)\n",
    "     knn.fit(X_train, y_train)\n",
    "     score_train = knn.score(X_train, y_train)\n",
    "     score_test = knn.score(X_test, y_test)\n",
    "     result = [i, score_train, score_test]\n",
    "     scores.append(result)\n",
    "\n",
    "scores"
   ]
  },
  {
   "cell_type": "markdown",
   "id": "1b540c8d",
   "metadata": {},
   "source": [
    "Так и есть, k=3 - лучший результат.\n",
    "Точность на обучающей выборке: 0.9049352750809061\n",
    "Точность на тестовой выборке: 0.8352211434735707"
   ]
  },
  {
   "cell_type": "markdown",
   "id": "f32b6338",
   "metadata": {},
   "source": [
    "# Обучающая выборка"
   ]
  },
  {
   "cell_type": "code",
   "execution_count": 73,
   "id": "1c7978ad",
   "metadata": {},
   "outputs": [
    {
     "name": "stderr",
     "output_type": "stream",
     "text": [
      "C:\\anaconda\\lib\\site-packages\\sklearn\\neighbors\\_classification.py:228: FutureWarning: Unlike other reduction functions (e.g. `skew`, `kurtosis`), the default behavior of `mode` typically preserves the axis it acts along. In SciPy 1.11.0, this behavior will change: the default value of `keepdims` will become False, the `axis` over which the statistic is taken will be eliminated, and the value None will no longer be accepted. Set `keepdims` to True or False to avoid this warning.\n",
      "  mode, _ = stats.mode(_y[neigh_ind, k], axis=1)\n"
     ]
    },
    {
     "name": "stdout",
     "output_type": "stream",
     "text": [
      "Accuracy = 0.9049352750809061\n",
      "Error = 0.0950647249190939\n"
     ]
    }
   ],
   "source": [
    "knn = KNeighborsClassifier(n_neighbors=3)\n",
    "knn.fit(X_train, y_train)\n",
    "     \n",
    "y_train_predict = knn.predict(X_train)\n",
    "knn_accuracy_train = accuracy_score(y_train_predict, y_train)\n",
    "knn_err_train = 1 - knn_accuracy_train\n",
    "print(f\"Accuracy = {knn_accuracy_train}\\nError = {knn_err_train}\")"
   ]
  },
  {
   "cell_type": "raw",
   "id": "ec723745",
   "metadata": {},
   "source": [
    "Точность = 0.9049352750809061\n",
    "Ошибка = 0.0950647249190939"
   ]
  },
  {
   "cell_type": "code",
   "execution_count": 74,
   "id": "bdb05435",
   "metadata": {},
   "outputs": [
    {
     "name": "stderr",
     "output_type": "stream",
     "text": [
      "C:\\anaconda\\lib\\site-packages\\sklearn\\neighbors\\_classification.py:228: FutureWarning: Unlike other reduction functions (e.g. `skew`, `kurtosis`), the default behavior of `mode` typically preserves the axis it acts along. In SciPy 1.11.0, this behavior will change: the default value of `keepdims` will become False, the `axis` over which the statistic is taken will be eliminated, and the value None will no longer be accepted. Set `keepdims` to True or False to avoid this warning.\n",
      "  mode, _ = stats.mode(_y[neigh_ind, k], axis=1)\n"
     ]
    },
    {
     "data": {
      "text/plain": [
       "<sklearn.metrics._plot.confusion_matrix.ConfusionMatrixDisplay at 0x1f2c2fd2760>"
      ]
     },
     "execution_count": 74,
     "metadata": {},
     "output_type": "execute_result"
    },
    {
     "data": {
      "image/png": "[encoded data removed]",
      "text/plain": [
       "<Figure size 640x480 with 2 Axes>"
      ]
     },
     "metadata": {},
     "output_type": "display_data"
    }
   ],
   "source": [
    "ConfusionMatrixDisplay.from_estimator(knn, X_train, y_train, cmap ='Blues')"
   ]
  },
  {
   "cell_type": "markdown",
   "id": "054d9f39",
   "metadata": {},
   "source": [
    "Число правильно классифицированных положительных объектов (TP): опрошенный получает ≤50 тыс - 15100\n",
    "Число правильно классифицированных отрицательных объектов (TN): опрошенный получает >50 тыс - 16258\n",
    "\n",
    "Число неправильно классифицированных положительных объектов (FN): опрошенный получает ≤50 тыс, но предсказано >50тыс. - 963\n",
    "Число неправильно классифицированных отрицательных объектов (FP): опрошенный получает >50 тыс, но предсказано ≤50тыс. - 16258\n",
    "\n",
    "FN классификатор неверно отнёс объект к рассматриваемому классу.\n",
    "FP классификатор неверно утверждает, что объект не принадлежит к рассматриваемому классу."
   ]
  },
  {
   "cell_type": "markdown",
   "id": "66d20cf9",
   "metadata": {},
   "source": [
    "# Тестовая выборка"
   ]
  },
  {
   "cell_type": "code",
   "execution_count": 75,
   "id": "b8ed81e1",
   "metadata": {},
   "outputs": [
    {
     "name": "stderr",
     "output_type": "stream",
     "text": [
      "C:\\anaconda\\lib\\site-packages\\sklearn\\neighbors\\_classification.py:228: FutureWarning: Unlike other reduction functions (e.g. `skew`, `kurtosis`), the default behavior of `mode` typically preserves the axis it acts along. In SciPy 1.11.0, this behavior will change: the default value of `keepdims` will become False, the `axis` over which the statistic is taken will be eliminated, and the value None will no longer be accepted. Set `keepdims` to True or False to avoid this warning.\n",
      "  mode, _ = stats.mode(_y[neigh_ind, k], axis=1)\n"
     ]
    },
    {
     "name": "stdout",
     "output_type": "stream",
     "text": [
      "Accuracy = 0.8352211434735707\n",
      "Error = 0.16477885652642932\n"
     ]
    }
   ],
   "source": [
    "y_test_predict = knn.predict(X_test)\n",
    "knn_accuracy_test = accuracy_score(y_test_predict, y_test)\n",
    "knn_err_test = 1 - knn_accuracy_test\n",
    "print(f\"Accuracy = {knn_accuracy_test}\\nError = {knn_err_test}\")"
   ]
  },
  {
   "cell_type": "markdown",
   "id": "d929bf8c",
   "metadata": {},
   "source": [
    "Точность = 0.8352211434735707\n",
    "Ошибка = 0.16477885652642932"
   ]
  },
  {
   "cell_type": "code",
   "execution_count": 76,
   "id": "86e497e3",
   "metadata": {},
   "outputs": [
    {
     "name": "stderr",
     "output_type": "stream",
     "text": [
      "C:\\anaconda\\lib\\site-packages\\sklearn\\neighbors\\_classification.py:228: FutureWarning: Unlike other reduction functions (e.g. `skew`, `kurtosis`), the default behavior of `mode` typically preserves the axis it acts along. In SciPy 1.11.0, this behavior will change: the default value of `keepdims` will become False, the `axis` over which the statistic is taken will be eliminated, and the value None will no longer be accepted. Set `keepdims` to True or False to avoid this warning.\n",
      "  mode, _ = stats.mode(_y[neigh_ind, k], axis=1)\n"
     ]
    },
    {
     "data": {
      "text/plain": [
       "<sklearn.metrics._plot.confusion_matrix.ConfusionMatrixDisplay at 0x1f2c2f88190>"
      ]
     },
     "execution_count": 76,
     "metadata": {},
     "output_type": "execute_result"
    },
    {
     "data": {
      "image/png": "[encoded data removed]",
      "text/plain": [
       "<Figure size 640x480 with 2 Axes>"
      ]
     },
     "metadata": {},
     "output_type": "display_data"
    }
   ],
   "source": [
    "ConfusionMatrixDisplay.from_estimator(knn, X_test, y_test, cmap ='Blues')"
   ]
  },
  {
   "cell_type": "markdown",
   "id": "8dcab5e7",
   "metadata": {},
   "source": [
    "Число правильно классифицированных положительных объектов (TP): опрошенный получает ≤50 тыс - 5776\n",
    "Число правильно классифицированных отрицательных объектов (TN): опрошенный получает >50 тыс - 6640\n",
    "\n",
    "Число неправильно классифицированных положительных объектов (FN): опрошенный получает ≤50 тыс, но предсказано >50тыс. - 859\n",
    "Число неправильно классифицированных отрицательных объектов (FP): опрошенный получает >50 тыс, но предсказано ≤50тыс. - 1557\n",
    "\n",
    "FN классификатор неверно отнёс объект к рассматриваемому классу.\n",
    "FP классификатор неверно утверждает, что объект не принадлежит к рассматриваемому классу."
   ]
  },
  {
   "cell_type": "markdown",
   "id": "3716fc53",
   "metadata": {},
   "source": [
    "Создаём и обучаем модель дерева решений\n",
    "Оцениваем точность на обучающих и тестовых данных"
   ]
  },
  {
   "cell_type": "markdown",
   "id": "98ebdc6c",
   "metadata": {},
   "source": [
    "max_depth - максимальная глубина дерева решений(если число большое, то дерево может стать слишком длинным = переобучение)"
   ]
  },
  {
   "cell_type": "markdown",
   "id": "9c268610",
   "metadata": {},
   "source": [
    "max_depth=1"
   ]
  },
  {
   "cell_type": "code",
   "execution_count": 110,
   "id": "e4b0e8da",
   "metadata": {},
   "outputs": [
    {
     "name": "stdout",
     "output_type": "stream",
     "text": [
      "Точность на обучающих данных: 0.76\n",
      "Точность на тестовых данных: 0.76\n"
     ]
    }
   ],
   "source": [
    "tree = DecisionTreeClassifier(max_depth=1, random_state=42) \n",
    "tree.fit(X_train, y_train)\n",
    "tree_train_score = tree.score(X_train, y_train)\n",
    "tree_test_score = tree.score(X_test, y_test)\n",
    "print(f\"Точность на обучающих данных: {tree_train_score:.2f}\")\n",
    "print(f\"Точность на тестовых данных: {tree_test_score:.2f}\")"
   ]
  },
  {
   "cell_type": "markdown",
   "id": "3aa98b52",
   "metadata": {},
   "source": [
    "max_depth=2"
   ]
  },
  {
   "cell_type": "code",
   "execution_count": 111,
   "id": "84cdea6d",
   "metadata": {},
   "outputs": [
    {
     "name": "stdout",
     "output_type": "stream",
     "text": [
      "Точность на обучающих данных: 0.77\n",
      "Точность на тестовых данных: 0.78\n"
     ]
    }
   ],
   "source": [
    "tree = DecisionTreeClassifier(max_depth=2, random_state=42) \n",
    "tree.fit(X_train, y_train)\n",
    "tree_train_score = tree.score(X_train, y_train)\n",
    "tree_test_score = tree.score(X_test, y_test)\n",
    "print(f\"Точность на обучающих данных: {tree_train_score:.2f}\")\n",
    "print(f\"Точность на тестовых данных: {tree_test_score:.2f}\")"
   ]
  },
  {
   "cell_type": "markdown",
   "id": "28981439",
   "metadata": {},
   "source": [
    "max_depth=3"
   ]
  },
  {
   "cell_type": "code",
   "execution_count": 112,
   "id": "45fad7e9",
   "metadata": {},
   "outputs": [
    {
     "name": "stdout",
     "output_type": "stream",
     "text": [
      "Точность на обучающих данных: 0.78\n",
      "Точность на тестовых данных: 0.77\n"
     ]
    }
   ],
   "source": [
    "tree = DecisionTreeClassifier(max_depth=3, random_state=42) \n",
    "tree.fit(X_train, y_train)\n",
    "tree_train_score = tree.score(X_train, y_train)\n",
    "tree_test_score = tree.score(X_test, y_test)\n",
    "print(f\"Точность на обучающих данных: {tree_train_score:.2f}\")\n",
    "print(f\"Точность на тестовых данных: {tree_test_score:.2f}\")"
   ]
  },
  {
   "cell_type": "markdown",
   "id": "86b4b1d3",
   "metadata": {},
   "source": [
    "max_depth=5"
   ]
  },
  {
   "cell_type": "code",
   "execution_count": 113,
   "id": "1a0c2ac8",
   "metadata": {},
   "outputs": [
    {
     "name": "stdout",
     "output_type": "stream",
     "text": [
      "Точность на обучающих данных: 0.80\n",
      "Точность на тестовых данных: 0.79\n"
     ]
    }
   ],
   "source": [
    "tree = DecisionTreeClassifier(max_depth=5, random_state=42) \n",
    "tree.fit(X_train, y_train)\n",
    "tree_train_score = tree.score(X_train, y_train)\n",
    "tree_test_score = tree.score(X_test, y_test)\n",
    "print(f\"Точность на обучающих данных: {tree_train_score:.2f}\")\n",
    "print(f\"Точность на тестовых данных: {tree_test_score:.2f}\")"
   ]
  },
  {
   "cell_type": "markdown",
   "id": "f3a2d586",
   "metadata": {},
   "source": [
    "max_depth=10"
   ]
  },
  {
   "cell_type": "code",
   "execution_count": 114,
   "id": "3be18c16",
   "metadata": {},
   "outputs": [
    {
     "name": "stdout",
     "output_type": "stream",
     "text": [
      "Точность на обучающих данных: 0.80\n",
      "Точность на тестовых данных: 0.79\n"
     ]
    }
   ],
   "source": [
    "tree = DecisionTreeClassifier(max_depth=5, random_state=42) \n",
    "tree.fit(X_train, y_train)\n",
    "tree_train_score = tree.score(X_train, y_train)\n",
    "tree_test_score = tree.score(X_test, y_test)\n",
    "print(f\"Точность на обучающих данных: {tree_train_score:.2f}\")\n",
    "print(f\"Точность на тестовых данных: {tree_test_score:.2f}\")"
   ]
  },
  {
   "cell_type": "markdown",
   "id": "dedd438b",
   "metadata": {},
   "source": [
    "max_depth=15"
   ]
  },
  {
   "cell_type": "code",
   "execution_count": 115,
   "id": "181f705b",
   "metadata": {},
   "outputs": [
    {
     "name": "stdout",
     "output_type": "stream",
     "text": [
      "Точность на обучающих данных: 0.80\n",
      "Точность на тестовых данных: 0.79\n"
     ]
    }
   ],
   "source": [
    "tree = DecisionTreeClassifier(max_depth=5, random_state=42) \n",
    "tree.fit(X_train, y_train)\n",
    "tree_train_score = tree.score(X_train, y_train)\n",
    "tree_test_score = tree.score(X_test, y_test)\n",
    "print(f\"Точность на обучающих данных: {tree_train_score:.2f}\")\n",
    "print(f\"Точность на тестовых данных: {tree_test_score:.2f}\")"
   ]
  },
  {
   "cell_type": "markdown",
   "id": "77a10e05",
   "metadata": {},
   "source": [
    "# Сравнение KNN и дерева решений"
   ]
  },
  {
   "cell_type": "markdown",
   "id": "ebcf0027",
   "metadata": {},
   "source": [
    "Сравнение точности\n",
    "1. "
   ]
  },
  {
   "cell_type": "markdown",
   "id": "ae8bbdd5",
   "metadata": {},
   "source": [
    "Алгоритм KNN дольше обучается, однако у него лучше точность. Также KNN сильно чувствителен к выбросам, что может повлиять на ближаших соседей."
   ]
  },
  {
   "cell_type": "markdown",
   "id": "aeb34ba7",
   "metadata": {},
   "source": [
    "# Вывод"
   ]
  },
  {
   "cell_type": "markdown",
   "id": "af54f5b8",
   "metadata": {},
   "source": [
    "Исходное распределение классов\n",
    "\n",
    "Визуализация (круговая диаграмма) показала, что класс \"≤50K\" доминирует над \">50K\", что указывает на дисбаланс классов.\n",
    "Предобработка данных\n",
    "\n",
    "Обнаружены пропущенные значения в workclass, occupation и native-country, которые заменены модами соответствующих колонок.\n",
    "Числовые данные были нормализованы с помощью MinMaxScaler.\n",
    "Удалены незначащие признаки (fnlwgt, education-num, capital-gain, capital-loss).\n",
    "Категориальные переменные закодированы (One-Hot Encoding).\n",
    "Корреляционный анализ\n",
    "\n",
    "Построена тепловая карта корреляций, выявившая наиболее зависимые переменные.\n",
    "Визуализация распределений\n",
    "\n",
    "Гистограммы показали, как различные факторы (образование, семейное положение, пол и т.д.) связаны с уровнем зарплаты.\n",
    "Балансировка классов\n",
    "\n",
    "Метод SMOTE применён для уравнивания количества примеров в обоих классах.\n",
    "После балансировки классов снова построена круговая диаграмма, показывающая равномерное распределение.\n",
    "Обучение KNN\n",
    "\n",
    "Тестировались различные значения n_neighbors (от 1 до 15).\n",
    "Оптимальным оказалось значение n_neighbors=3, обеспечивающее хороший баланс между обучающей и тестовой выборками.\n",
    "Результаты KNN (n_neighbors=3):\n",
    "\n",
    "Точность на обучающей выборке: Высокая (около 0.9), что говорит о хорошей подгонке к данным.\n",
    "Точность на тестовой выборке: Немного ниже (около 0.8), но не свидетельствует о сильного переобучения.\n",
    "Матрицы ошибок построены для обеих выборок, показывая распределение правильных и ошибочных предсказаний."
   ]
  }
 ],
 "metadata": {
  "kernelspec": {
   "display_name": "Python 3 (ipykernel)",
   "language": "python",
   "name": "python3"
  },
  "language_info": {
   "codemirror_mode": {
    "name": "ipython",
    "version": 3
   },
   "file_extension": ".py",
   "mimetype": "text/x-python",
   "name": "python",
   "nbconvert_exporter": "python",
   "pygments_lexer": "ipython3",
   "version": "3.9.13"
  }
 },
 "nbformat": 4,
 "nbformat_minor": 5
}
